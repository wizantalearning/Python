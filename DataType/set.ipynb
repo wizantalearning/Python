{
 "cells": [
  {
   "cell_type": "code",
   "execution_count": 1,
   "metadata": {
    "id": "2IPxTMYBp0I7"
   },
   "outputs": [],
   "source": [
    "# --set-- #\n",
    "# A Set in Python programming is an unordered collection data type that is iterable, mutable and has no duplicate elements."
   ]
  },
  {
   "cell_type": "code",
   "execution_count": 1,
   "metadata": {
    "colab": {
     "base_uri": "https://localhost:8080/"
    },
    "id": "jP5hU7KuqGC_",
    "outputId": "41d0eb0f-4e2d-4ddb-ccc8-de22f03ae8e0"
   },
   "outputs": [
    {
     "name": "stdout",
     "output_type": "stream",
     "text": [
      "{1, 2, 'hello', (3+4j)}\n",
      "<class 'set'>\n"
     ]
    }
   ],
   "source": [
    "set1={1,2,\"hello\",3+4j,2}\n",
    "print(set1) # not allow duplicate values\n",
    "print(type(set1)) # type to check data type"
   ]
  },
  {
   "cell_type": "code",
   "execution_count": 2,
   "metadata": {
    "colab": {
     "base_uri": "https://localhost:8080/"
    },
    "id": "aQwNMAG6qOQl",
    "outputId": "be5933b9-15e9-430d-eb5f-735ea2a0a099"
   },
   "outputs": [
    {
     "name": "stdout",
     "output_type": "stream",
     "text": [
      "{8, True, 'Hello', (3+4j)}\n"
     ]
    }
   ],
   "source": [
    "string='Hello'\n",
    "value1=8\n",
    "cvalue=3+4j\n",
    "value2=8\n",
    "value3=8.0 # 8.0 and 8 consider the same value\n",
    "bool1=True\n",
    "set2={string,value1,cvalue,value2,value3,bool1}\n",
    "print(set2)"
   ]
  },
  {
   "cell_type": "code",
   "execution_count": 3,
   "metadata": {
    "colab": {
     "base_uri": "https://localhost:8080/"
    },
    "id": "65aE0KbIqTx4",
    "outputId": "3479e86d-c477-4e56-e396-7efa669484ed"
   },
   "outputs": [
    {
     "name": "stdout",
     "output_type": "stream",
     "text": [
      "{True}\n"
     ]
    }
   ],
   "source": [
    "set3={True,1}\n",
    "print(set3) # True and 1 consider the same value"
   ]
  },
  {
   "cell_type": "code",
   "execution_count": 4,
   "metadata": {
    "colab": {
     "base_uri": "https://localhost:8080/"
    },
    "id": "ouphp_WBq8nV",
    "outputId": "08a54a7c-2916-4377-9adb-1b7bc8116570"
   },
   "outputs": [
    {
     "name": "stdout",
     "output_type": "stream",
     "text": [
      "{0j, ()}\n"
     ]
    }
   ],
   "source": [
    "set4={0j,False,()}\n",
    "print(set4) # 0j and False consider the same value, second element is empty tuple."
   ]
  },
  {
   "cell_type": "code",
   "execution_count": null,
   "metadata": {
    "id": "rvtrzZSOrDj5"
   },
   "outputs": [],
   "source": [
    "# hashable type : int,float,complex,str,bool,tuple,def fun\n",
    "# unhashable type : list,set,dict"
   ]
  },
  {
   "cell_type": "code",
   "execution_count": 5,
   "metadata": {
    "colab": {
     "base_uri": "https://localhost:8080/"
    },
    "id": "iUeBOQcErzC2",
    "outputId": "85d49d26-6fa8-490a-f7e8-aa7ec08e71ba"
   },
   "outputs": [
    {
     "name": "stdout",
     "output_type": "stream",
     "text": [
      "{(1, 1, 2, 'hello', True, 2.0)}\n",
      "1\n"
     ]
    }
   ],
   "source": [
    "set5={(1,1,2,\"hello\",True,2.0)}\n",
    "print(set5)\n",
    "print(len(set5)) # len - return the number of items in a container"
   ]
  },
  {
   "cell_type": "code",
   "execution_count": 6,
   "metadata": {
    "colab": {
     "base_uri": "https://localhost:8080/"
    },
    "id": "OEpPj-R_sHui",
    "outputId": "a1d870ac-ee6b-4d37-e240-19d52ea8321c"
   },
   "outputs": [
    {
     "name": "stdout",
     "output_type": "stream",
     "text": [
      "{1, 2, 'hello', (True, 2023), (3+4j)}\n",
      "5\n"
     ]
    }
   ],
   "source": [
    "set6={1,2,2.0,\"hello\",(True,2023),3+4j,2+0j} # 2,2.0 and 2+0j consider the same value.\n",
    "print(set6)\n",
    "print(len(set6))"
   ]
  },
  {
   "cell_type": "code",
   "execution_count": 7,
   "metadata": {
    "colab": {
     "base_uri": "https://localhost:8080/"
    },
    "id": "NxsPW19ZsUUT",
    "outputId": "c022df7f-b55e-4771-d234-bab233753683"
   },
   "outputs": [
    {
     "name": "stdout",
     "output_type": "stream",
     "text": [
      "{<function is_even at 0x7fd0a1cd6a60>}\n",
      "1\n"
     ]
    }
   ],
   "source": [
    "def is_even(num):\n",
    "  if num%2==0:\n",
    "    return True\n",
    "  else:\n",
    "    return False\n",
    "set7={is_even}\n",
    "print(set7)\n",
    "print(len(set7))"
   ]
  },
  {
   "cell_type": "code",
   "execution_count": 8,
   "metadata": {
    "colab": {
     "base_uri": "https://localhost:8080/",
     "height": 213
    },
    "id": "QtgDgqU-swBJ",
    "outputId": "aff2de5d-43bc-4c50-b6b3-9d2b85d96b3f"
   },
   "outputs": [
    {
     "ename": "TypeError",
     "evalue": "unhashable type: 'list'",
     "output_type": "error",
     "traceback": [
      "\u001b[0;31m---------------------------------------------------------------------------\u001b[0m",
      "\u001b[0;31mTypeError\u001b[0m                                 Traceback (most recent call last)",
      "Input \u001b[0;32mIn [8]\u001b[0m, in \u001b[0;36m<cell line: 1>\u001b[0;34m()\u001b[0m\n\u001b[0;32m----> 1\u001b[0m set8\u001b[38;5;241m=\u001b[39m{[\u001b[38;5;241m1\u001b[39m,\u001b[38;5;241m2\u001b[39m,\u001b[38;5;241m2\u001b[39m,\u001b[38;5;124m\"\u001b[39m\u001b[38;5;124mhello\u001b[39m\u001b[38;5;124m\"\u001b[39m,\u001b[38;5;241m3\u001b[39m\u001b[38;5;241m+\u001b[39m\u001b[38;5;241m4\u001b[39mj]} \u001b[38;5;66;03m# set can't contain unhashable type like list,set,dict\u001b[39;00m\n\u001b[1;32m      2\u001b[0m \u001b[38;5;28mprint\u001b[39m(set8)\n\u001b[1;32m      3\u001b[0m \u001b[38;5;28mprint\u001b[39m(\u001b[38;5;28mlen\u001b[39m(set8))\n",
      "\u001b[0;31mTypeError\u001b[0m: unhashable type: 'list'"
     ]
    }
   ],
   "source": [
    "set8={[1,2,2,\"hello\",3+4j]} # set can't contain unhashable type like list,set,dict\n",
    "print(set8)\n",
    "print(len(set8))\n",
    "\n",
    "# set of set is also not possible"
   ]
  },
  {
   "cell_type": "code",
   "execution_count": 9,
   "metadata": {
    "colab": {
     "base_uri": "https://localhost:8080/",
     "height": 213
    },
    "id": "qe4JcfnBtacR",
    "outputId": "f4cd57a3-dafd-4869-ac70-1b1b1320ab92"
   },
   "outputs": [
    {
     "ename": "TypeError",
     "evalue": "unhashable type: 'set'",
     "output_type": "error",
     "traceback": [
      "\u001b[0;31m---------------------------------------------------------------------------\u001b[0m",
      "\u001b[0;31mTypeError\u001b[0m                                 Traceback (most recent call last)",
      "Input \u001b[0;32mIn [9]\u001b[0m, in \u001b[0;36m<cell line: 1>\u001b[0;34m()\u001b[0m\n\u001b[0;32m----> 1\u001b[0m set9\u001b[38;5;241m=\u001b[39m{{\u001b[38;5;241m1\u001b[39m,\u001b[38;5;241m2\u001b[39m,\u001b[38;5;241m2\u001b[39m,\u001b[38;5;124m\"\u001b[39m\u001b[38;5;124mhello\u001b[39m\u001b[38;5;124m\"\u001b[39m,\u001b[38;5;241m3\u001b[39m\u001b[38;5;241m+\u001b[39m\u001b[38;5;241m4\u001b[39mj}}\n\u001b[1;32m      2\u001b[0m \u001b[38;5;28mprint\u001b[39m(set9)\n\u001b[1;32m      3\u001b[0m \u001b[38;5;28mprint\u001b[39m(\u001b[38;5;28mlen\u001b[39m(set9))\n",
      "\u001b[0;31mTypeError\u001b[0m: unhashable type: 'set'"
     ]
    }
   ],
   "source": [
    "set9={{1,2,2,\"hello\",3+4j}}\n",
    "print(set9)\n",
    "print(len(set9))"
   ]
  },
  {
   "cell_type": "code",
   "execution_count": 10,
   "metadata": {
    "colab": {
     "base_uri": "https://localhost:8080/"
    },
    "id": "WNpRqJRdwD2W",
    "outputId": "1be86b6d-c028-4549-dadd-bc4240a17c23"
   },
   "outputs": [
    {
     "name": "stdout",
     "output_type": "stream",
     "text": [
      "{1, 2, 'hello', (3+4j)}\n",
      "4\n"
     ]
    }
   ],
   "source": [
    "set10={*[1,2,2,\"hello\",3+4j]} # unpacking operator (*) used for iterable unpacking\n",
    "print(set10)\n",
    "print(len(set10))"
   ]
  },
  {
   "cell_type": "code",
   "execution_count": 11,
   "metadata": {
    "colab": {
     "base_uri": "https://localhost:8080/"
    },
    "id": "wEBBz4f4ti7V",
    "outputId": "6df09013-0b47-4a94-f343-ce12262b5bb3"
   },
   "outputs": [
    {
     "name": "stdout",
     "output_type": "stream",
     "text": [
      "<class 'dict'>\n"
     ]
    }
   ],
   "source": [
    "setx={} # empty dict not a empty set\n",
    "print(type({}))"
   ]
  },
  {
   "cell_type": "code",
   "execution_count": 12,
   "metadata": {
    "colab": {
     "base_uri": "https://localhost:8080/"
    },
    "id": "EaZbpQB0uVK4",
    "outputId": "6d29d832-e8a8-405e-edfd-7a91eaab72cd"
   },
   "outputs": [
    {
     "name": "stdout",
     "output_type": "stream",
     "text": [
      "set()\n"
     ]
    }
   ],
   "source": [
    "sety=set() # empty set\n",
    "print(sety)"
   ]
  },
  {
   "cell_type": "code",
   "execution_count": 13,
   "metadata": {
    "colab": {
     "base_uri": "https://localhost:8080/",
     "height": 213
    },
    "id": "O2iU4G1rv1d-",
    "outputId": "be50c718-e1b8-4cf5-ad91-1567fb3364ac"
   },
   "outputs": [
    {
     "ename": "TypeError",
     "evalue": "'set' object is not subscriptable",
     "output_type": "error",
     "traceback": [
      "\u001b[0;31m---------------------------------------------------------------------------\u001b[0m",
      "\u001b[0;31mTypeError\u001b[0m                                 Traceback (most recent call last)",
      "Input \u001b[0;32mIn [13]\u001b[0m, in \u001b[0;36m<cell line: 2>\u001b[0;34m()\u001b[0m\n\u001b[1;32m      1\u001b[0m set11\u001b[38;5;241m=\u001b[39m{\u001b[38;5;241m1\u001b[39m,\u001b[38;5;241m2\u001b[39m,\u001b[38;5;124m'\u001b[39m\u001b[38;5;124mhello\u001b[39m\u001b[38;5;124m'\u001b[39m,\u001b[38;5;241m2.0\u001b[39m,\u001b[38;5;241m3\u001b[39m\u001b[38;5;241m+\u001b[39m\u001b[38;5;241m4\u001b[39mj,\u001b[38;5;241m2\u001b[39m\u001b[38;5;241m+\u001b[39m\u001b[38;5;241m0\u001b[39mj}\n\u001b[0;32m----> 2\u001b[0m \u001b[38;5;28mprint\u001b[39m(\u001b[43mset11\u001b[49m\u001b[43m[\u001b[49m\u001b[38;5;241;43m1\u001b[39;49m\u001b[43m]\u001b[49m)\n",
      "\u001b[0;31mTypeError\u001b[0m: 'set' object is not subscriptable"
     ]
    }
   ],
   "source": [
    "set11={1,2,'hello',2.0,3+4j,2+0j}\n",
    "print(set11[1]) # 'set' object is not subscriptable"
   ]
  },
  {
   "cell_type": "code",
   "execution_count": null,
   "metadata": {
    "id": "70Bxn4Snw6xL"
   },
   "outputs": [],
   "source": [
    "# In Python, an object is considered \"subscriptable\" if it supports the use of square brackets ([]) to access its elements."
   ]
  },
  {
   "cell_type": "code",
   "execution_count": 14,
   "metadata": {
    "colab": {
     "base_uri": "https://localhost:8080/",
     "height": 213
    },
    "id": "BNKMAyzsxSQJ",
    "outputId": "784875bc-3a2f-4b3d-e9e4-695d36cda0f4"
   },
   "outputs": [
    {
     "ename": "TypeError",
     "evalue": "'set' object is not subscriptable",
     "output_type": "error",
     "traceback": [
      "\u001b[0;31m---------------------------------------------------------------------------\u001b[0m",
      "\u001b[0;31mTypeError\u001b[0m                                 Traceback (most recent call last)",
      "Input \u001b[0;32mIn [14]\u001b[0m, in \u001b[0;36m<cell line: 4>\u001b[0;34m()\u001b[0m\n\u001b[1;32m      3\u001b[0m set12\u001b[38;5;241m=\u001b[39m{\u001b[38;5;241m1\u001b[39m,\u001b[38;5;241m2\u001b[39m,\u001b[38;5;124m'\u001b[39m\u001b[38;5;124mhello\u001b[39m\u001b[38;5;124m'\u001b[39m,\u001b[38;5;241m2.0\u001b[39m,\u001b[38;5;241m3\u001b[39m\u001b[38;5;241m+\u001b[39m\u001b[38;5;241m4\u001b[39mj,\u001b[38;5;241m2\u001b[39m\u001b[38;5;241m+\u001b[39m\u001b[38;5;241m0\u001b[39mj}\n\u001b[1;32m      4\u001b[0m \u001b[38;5;28;01mfor\u001b[39;00m i \u001b[38;5;129;01min\u001b[39;00m \u001b[38;5;28mrange\u001b[39m(\u001b[38;5;28mlen\u001b[39m(set12)):\n\u001b[0;32m----> 5\u001b[0m   \u001b[38;5;28mprint\u001b[39m(\u001b[43mset12\u001b[49m\u001b[43m[\u001b[49m\u001b[43mi\u001b[49m\u001b[43m]\u001b[49m)\n",
      "\u001b[0;31mTypeError\u001b[0m: 'set' object is not subscriptable"
     ]
    }
   ],
   "source": [
    "# -- loop in set -- #\n",
    "\n",
    "set12={1,2,'hello',2.0,3+4j,2+0j}\n",
    "for i in range(len(set12)):\n",
    "  print(set12[i])"
   ]
  },
  {
   "cell_type": "code",
   "execution_count": 15,
   "metadata": {
    "colab": {
     "base_uri": "https://localhost:8080/"
    },
    "id": "YZionS-HyGku",
    "outputId": "90174c99-a3a4-4bc1-ea47-f84adebbe344"
   },
   "outputs": [
    {
     "name": "stdout",
     "output_type": "stream",
     "text": [
      "1\n",
      "2\n",
      "hello\n",
      "(3+4j)\n"
     ]
    }
   ],
   "source": [
    "set13={1,2,'hello',2.0,3+4j,2+0j}\n",
    "for el in set13:\n",
    "  print(el)"
   ]
  },
  {
   "cell_type": "code",
   "execution_count": 16,
   "metadata": {
    "colab": {
     "base_uri": "https://localhost:8080/"
    },
    "id": "5lH_7gXOyPkJ",
    "outputId": "064ee4ec-34f2-4fd3-8369-01aba1f51f0f"
   },
   "outputs": [
    {
     "name": "stdout",
     "output_type": "stream",
     "text": [
      "1\n",
      "2\n",
      "hello\n",
      "(3+4j)\n"
     ]
    }
   ],
   "source": [
    "set14={1,2,'hello',2.0,3+4j,2+0j}\n",
    "while set14:\n",
    "  el=set14.pop()\n",
    "  print(el)"
   ]
  },
  {
   "cell_type": "code",
   "execution_count": 17,
   "metadata": {
    "colab": {
     "base_uri": "https://localhost:8080/"
    },
    "id": "C7aCbOTSyYOp",
    "outputId": "db78be6c-42a1-45ac-ed39-ef768fdf5dd3"
   },
   "outputs": [
    {
     "name": "stdout",
     "output_type": "stream",
     "text": [
      "odd neither prime nor composite \n",
      "Even prime \n",
      "odd prime \n",
      "Even composite \n",
      "odd prime \n",
      "Even composite \n",
      "odd prime \n",
      "Even composite \n",
      "odd composite \n"
     ]
    }
   ],
   "source": [
    "def is_even(num):\n",
    "  if num%2==0:\n",
    "    return 'Even'\n",
    "  else:\n",
    "    return 'odd'\n",
    "def is_prime(number):\n",
    "    if number == 1:\n",
    "        return 'neither prime nor composite'\n",
    "    else:\n",
    "        for i in range(2, number):\n",
    "            if number % i == 0:\n",
    "                return 'composite'\n",
    "        return 'prime'\n",
    "set15={1,2,3,4,5,6,7,8,9}\n",
    "set16={is_even,is_prime}\n",
    "for el in set15:\n",
    "  for fn in set16:\n",
    "    r=fn(el)\n",
    "    print(r,end=' ')\n",
    "  print()"
   ]
  },
  {
   "cell_type": "code",
   "execution_count": 18,
   "metadata": {
    "colab": {
     "base_uri": "https://localhost:8080/"
    },
    "id": "4IDykLEx5yT_",
    "outputId": "ac329242-47c3-447b-c665-0d1918a407f2"
   },
   "outputs": [
    {
     "name": "stdout",
     "output_type": "stream",
     "text": [
      "Enter Value : 9\n",
      "{64, 1, 4, 36, 9, 16, 49, 25}\n",
      "<class 'set'>\n"
     ]
    }
   ],
   "source": [
    "num=int(input('Enter Value : '))\n",
    "sq_set={x*x for x in range(1,num)}\n",
    "print(sq_set)\n",
    "print(type(sq_set))"
   ]
  },
  {
   "cell_type": "code",
   "execution_count": null,
   "metadata": {
    "id": "KES3NuhG855W"
   },
   "outputs": [],
   "source": [
    "# set constructor\n",
    "\n",
    "'''\n",
    "The set() constructor can accept various iterable objects like lists, tuples, strings, etc.,\n",
    "and it will create a new set containing the unique elements from the iterable\n",
    "\n",
    "'''"
   ]
  },
  {
   "cell_type": "code",
   "execution_count": 19,
   "metadata": {
    "colab": {
     "base_uri": "https://localhost:8080/"
    },
    "id": "h83mb9_H_ePR",
    "outputId": "c5f4d546-06f2-4f3c-d951-f1439c26ae9a"
   },
   "outputs": [
    {
     "name": "stdout",
     "output_type": "stream",
     "text": [
      "{1, 2, 'hello', (3+4j)}\n",
      "4\n"
     ]
    }
   ],
   "source": [
    "set17=set([1,2,2.0,\"hello\",3+4j,2+0j])\n",
    "print(set17)\n",
    "print(len(set17))"
   ]
  },
  {
   "cell_type": "code",
   "execution_count": 20,
   "metadata": {
    "colab": {
     "base_uri": "https://localhost:8080/"
    },
    "id": "6-3TMXUaAM_H",
    "outputId": "f6393a56-3d2d-48d1-f8a4-c56912ea9609"
   },
   "outputs": [
    {
     "name": "stdout",
     "output_type": "stream",
     "text": [
      "{1, 2, 'hello', (3+4j)}\n",
      "4\n"
     ]
    }
   ],
   "source": [
    "set18=set((1,2,2.0,\"hello\",3+4j,2+0j))\n",
    "print(set18)\n",
    "print(len(set18))"
   ]
  },
  {
   "cell_type": "code",
   "execution_count": 21,
   "metadata": {
    "colab": {
     "base_uri": "https://localhost:8080/"
    },
    "id": "rTaW_JbkAfOb",
    "outputId": "e04bdb93-e5a3-40f8-b578-6ab1810feeec"
   },
   "outputs": [
    {
     "name": "stdout",
     "output_type": "stream",
     "text": [
      "{1, 2, 'hello', (3+4j)}\n",
      "4\n"
     ]
    }
   ],
   "source": [
    "set19=set({1,2,2.0,\"hello\",3+4j,2+0j})\n",
    "print(set19)\n",
    "print(len(set19))"
   ]
  },
  {
   "cell_type": "code",
   "execution_count": 22,
   "metadata": {
    "colab": {
     "base_uri": "https://localhost:8080/",
     "height": 213
    },
    "id": "da04nlWgAlKp",
    "outputId": "a4dcac65-eb66-4bcd-df32-491cbdce2f8a"
   },
   "outputs": [
    {
     "ename": "TypeError",
     "evalue": "set expected at most 1 argument, got 2",
     "output_type": "error",
     "traceback": [
      "\u001b[0;31m---------------------------------------------------------------------------\u001b[0m",
      "\u001b[0;31mTypeError\u001b[0m                                 Traceback (most recent call last)",
      "Input \u001b[0;32mIn [22]\u001b[0m, in \u001b[0;36m<cell line: 1>\u001b[0;34m()\u001b[0m\n\u001b[0;32m----> 1\u001b[0m set20\u001b[38;5;241m=\u001b[39m\u001b[38;5;28;43mset\u001b[39;49m\u001b[43m(\u001b[49m\u001b[43m(\u001b[49m\u001b[38;5;241;43m1\u001b[39;49m\u001b[43m,\u001b[49m\u001b[38;5;241;43m2\u001b[39;49m\u001b[43m,\u001b[49m\u001b[38;5;241;43m2.0\u001b[39;49m\u001b[43m)\u001b[49m\u001b[43m,\u001b[49m\u001b[43m(\u001b[49m\u001b[38;5;124;43m\"\u001b[39;49m\u001b[38;5;124;43mhello\u001b[39;49m\u001b[38;5;124;43m\"\u001b[39;49m\u001b[43m,\u001b[49m\u001b[38;5;241;43m3\u001b[39;49m\u001b[38;5;241;43m+\u001b[39;49m\u001b[38;5;241;43m4\u001b[39;49m\u001b[43mj\u001b[49m\u001b[43m,\u001b[49m\u001b[38;5;241;43m2\u001b[39;49m\u001b[38;5;241;43m+\u001b[39;49m\u001b[38;5;241;43m0\u001b[39;49m\u001b[43mj\u001b[49m\u001b[43m)\u001b[49m\u001b[43m)\u001b[49m\n\u001b[1;32m      2\u001b[0m \u001b[38;5;28mprint\u001b[39m(set20)\n\u001b[1;32m      3\u001b[0m \u001b[38;5;28mprint\u001b[39m(\u001b[38;5;28mlen\u001b[39m(set20))\n",
      "\u001b[0;31mTypeError\u001b[0m: set expected at most 1 argument, got 2"
     ]
    }
   ],
   "source": [
    "set20=set((1,2,2.0),(\"hello\",3+4j,2+0j))\n",
    "print(set20)\n",
    "print(len(set20))"
   ]
  },
  {
   "cell_type": "code",
   "execution_count": 23,
   "metadata": {
    "colab": {
     "base_uri": "https://localhost:8080/"
    },
    "id": "szX5U-s9AsgK",
    "outputId": "ee4dd855-3d61-4743-8855-747cdb5d25d5"
   },
   "outputs": [
    {
     "name": "stdout",
     "output_type": "stream",
     "text": [
      "{'h', 'y', 'P', 't', 'n', 'o'}\n",
      "6\n"
     ]
    }
   ],
   "source": [
    "set21=set('Python')\n",
    "print(set21)\n",
    "print(len(set21))"
   ]
  },
  {
   "cell_type": "code",
   "execution_count": 24,
   "metadata": {
    "colab": {
     "base_uri": "https://localhost:8080/",
     "height": 213
    },
    "id": "_fuM4KyrA2L9",
    "outputId": "1cbf6111-fc9a-46d2-f979-cabc941c4e26"
   },
   "outputs": [
    {
     "ename": "TypeError",
     "evalue": "set expected at most 1 argument, got 2",
     "output_type": "error",
     "traceback": [
      "\u001b[0;31m---------------------------------------------------------------------------\u001b[0m",
      "\u001b[0;31mTypeError\u001b[0m                                 Traceback (most recent call last)",
      "Input \u001b[0;32mIn [24]\u001b[0m, in \u001b[0;36m<cell line: 1>\u001b[0;34m()\u001b[0m\n\u001b[0;32m----> 1\u001b[0m set22\u001b[38;5;241m=\u001b[39m\u001b[38;5;28;43mset\u001b[39;49m\u001b[43m(\u001b[49m\u001b[38;5;124;43m'\u001b[39;49m\u001b[38;5;124;43mPython\u001b[39;49m\u001b[38;5;124;43m'\u001b[39;49m\u001b[43m,\u001b[49m\u001b[38;5;124;43m'\u001b[39;49m\u001b[38;5;124;43mwelcome\u001b[39;49m\u001b[38;5;124;43m'\u001b[39;49m\u001b[43m)\u001b[49m\n\u001b[1;32m      2\u001b[0m \u001b[38;5;28mprint\u001b[39m(set22)\n\u001b[1;32m      3\u001b[0m \u001b[38;5;28mprint\u001b[39m(\u001b[38;5;28mlen\u001b[39m(set22))\n",
      "\u001b[0;31mTypeError\u001b[0m: set expected at most 1 argument, got 2"
     ]
    }
   ],
   "source": [
    "set22=set('Python','welcome')\n",
    "print(set22)\n",
    "print(len(set22))"
   ]
  },
  {
   "cell_type": "code",
   "execution_count": 25,
   "metadata": {
    "colab": {
     "base_uri": "https://localhost:8080/"
    },
    "id": "JWnA_3ukA8VO",
    "outputId": "0da76fad-419f-4af7-eb84-33bb01e90ae0"
   },
   "outputs": [
    {
     "name": "stdout",
     "output_type": "stream",
     "text": [
      "{'welcome', 'Python'}\n",
      "2\n"
     ]
    }
   ],
   "source": [
    "set23=set(('Python','welcome'))\n",
    "print(set23)\n",
    "print(len(set23))"
   ]
  },
  {
   "cell_type": "code",
   "execution_count": 26,
   "metadata": {
    "colab": {
     "base_uri": "https://localhost:8080/"
    },
    "id": "UWUp-SYRBMSr",
    "outputId": "edeebca3-e0b7-4464-d8aa-46891a9fd227"
   },
   "outputs": [
    {
     "name": "stdout",
     "output_type": "stream",
     "text": [
      "{1, 2, 'hello', (3+4j)}\n"
     ]
    }
   ],
   "source": [
    "# =\n",
    "set24={1,2,\"hello\",3+4j}\n",
    "set25=set24\n",
    "print(set25)"
   ]
  },
  {
   "cell_type": "code",
   "execution_count": 27,
   "metadata": {
    "colab": {
     "base_uri": "https://localhost:8080/"
    },
    "id": "tuUYtaFoBrZ6",
    "outputId": "35c1a169-fdcb-41b1-e916-d4934e9a3878"
   },
   "outputs": [
    {
     "name": "stdout",
     "output_type": "stream",
     "text": [
      "False\n",
      "True\n"
     ]
    }
   ],
   "source": [
    "# == , !=\n",
    "set26=[1,2,3]\n",
    "set27=[1,2,3,4]\n",
    "print(set26==set27)\n",
    "print(set26!=set27)"
   ]
  },
  {
   "cell_type": "code",
   "execution_count": 28,
   "metadata": {
    "colab": {
     "base_uri": "https://localhost:8080/"
    },
    "id": "-AfLJoTY0s_6",
    "outputId": "46011f83-061b-445d-94fe-b3c75630bab7"
   },
   "outputs": [
    {
     "name": "stdout",
     "output_type": "stream",
     "text": [
      "True\n",
      "False\n",
      "True\n"
     ]
    }
   ],
   "source": [
    "# in , not in\n",
    "print(True in {1,2,2.0,\"hello\",3+4j,2+0j}) # True and 1 consider the same value in set\n",
    "print(True in {2,2.0,\"hello\",3+4j,2+0j})\n",
    "print('hello' in {2,2.0,\"hello\",3+4j,2+0j})"
   ]
  },
  {
   "cell_type": "code",
   "execution_count": 29,
   "metadata": {
    "colab": {
     "base_uri": "https://localhost:8080/",
     "height": 231
    },
    "id": "zW0DTeL0CPjr",
    "outputId": "1d4b6fa8-9bcc-4371-fb1e-0a8665ee191a"
   },
   "outputs": [
    {
     "ename": "TypeError",
     "evalue": "unsupported operand type(s) for +: 'set' and 'set'",
     "output_type": "error",
     "traceback": [
      "\u001b[0;31m---------------------------------------------------------------------------\u001b[0m",
      "\u001b[0;31mTypeError\u001b[0m                                 Traceback (most recent call last)",
      "Input \u001b[0;32mIn [29]\u001b[0m, in \u001b[0;36m<cell line: 4>\u001b[0;34m()\u001b[0m\n\u001b[1;32m      2\u001b[0m set28\u001b[38;5;241m=\u001b[39m{\u001b[38;5;241m1\u001b[39m,\u001b[38;5;241m2\u001b[39m,\u001b[38;5;241m3\u001b[39m}\n\u001b[1;32m      3\u001b[0m set29\u001b[38;5;241m=\u001b[39m{\u001b[38;5;241m4\u001b[39m,\u001b[38;5;241m5\u001b[39m}\n\u001b[0;32m----> 4\u001b[0m set30\u001b[38;5;241m=\u001b[39m\u001b[43mset28\u001b[49m\u001b[38;5;241;43m+\u001b[39;49m\u001b[43mset29\u001b[49m\n\u001b[1;32m      5\u001b[0m \u001b[38;5;28mprint\u001b[39m(set30)\n",
      "\u001b[0;31mTypeError\u001b[0m: unsupported operand type(s) for +: 'set' and 'set'"
     ]
    }
   ],
   "source": [
    "# +\n",
    "set28={1,2,3}\n",
    "set29={4,5}\n",
    "set30=set28+set29\n",
    "print(set30)"
   ]
  },
  {
   "cell_type": "code",
   "execution_count": 30,
   "metadata": {
    "colab": {
     "base_uri": "https://localhost:8080/",
     "height": 231
    },
    "id": "4PhTq-ZeCvkP",
    "outputId": "a95a3128-a673-40c6-9fac-fce1e2b664f9"
   },
   "outputs": [
    {
     "ename": "TypeError",
     "evalue": "unsupported operand type(s) for *: 'set' and 'int'",
     "output_type": "error",
     "traceback": [
      "\u001b[0;31m---------------------------------------------------------------------------\u001b[0m",
      "\u001b[0;31mTypeError\u001b[0m                                 Traceback (most recent call last)",
      "Input \u001b[0;32mIn [30]\u001b[0m, in \u001b[0;36m<cell line: 4>\u001b[0;34m()\u001b[0m\n\u001b[1;32m      2\u001b[0m set31\u001b[38;5;241m=\u001b[39m{\u001b[38;5;241m1\u001b[39m,\u001b[38;5;241m2\u001b[39m,\u001b[38;5;241m3\u001b[39m}\n\u001b[1;32m      3\u001b[0m value\u001b[38;5;241m=\u001b[39m\u001b[38;5;241m4\u001b[39m\n\u001b[0;32m----> 4\u001b[0m set32\u001b[38;5;241m=\u001b[39m\u001b[43mset31\u001b[49m\u001b[38;5;241;43m*\u001b[39;49m\u001b[38;5;241;43m4\u001b[39;49m\n\u001b[1;32m      5\u001b[0m \u001b[38;5;28mprint\u001b[39m(set32)\n",
      "\u001b[0;31mTypeError\u001b[0m: unsupported operand type(s) for *: 'set' and 'int'"
     ]
    }
   ],
   "source": [
    "# *\n",
    "set31={1,2,3}\n",
    "value=4\n",
    "set32=set31*4\n",
    "print(set32)"
   ]
  },
  {
   "cell_type": "code",
   "execution_count": 31,
   "metadata": {
    "colab": {
     "base_uri": "https://localhost:8080/",
     "height": 231
    },
    "id": "o6XIHXJxDEj-",
    "outputId": "3e63f8a2-cd6e-4b67-e93a-dfb9f65262ad"
   },
   "outputs": [
    {
     "ename": "TypeError",
     "evalue": "unsupported operand type(s) for +=: 'set' and 'set'",
     "output_type": "error",
     "traceback": [
      "\u001b[0;31m---------------------------------------------------------------------------\u001b[0m",
      "\u001b[0;31mTypeError\u001b[0m                                 Traceback (most recent call last)",
      "Input \u001b[0;32mIn [31]\u001b[0m, in \u001b[0;36m<cell line: 4>\u001b[0;34m()\u001b[0m\n\u001b[1;32m      2\u001b[0m set33\u001b[38;5;241m=\u001b[39m{\u001b[38;5;241m1\u001b[39m,\u001b[38;5;241m2\u001b[39m,\u001b[38;5;241m3\u001b[39m}\n\u001b[1;32m      3\u001b[0m set34\u001b[38;5;241m=\u001b[39m{\u001b[38;5;241m4\u001b[39m,\u001b[38;5;241m5\u001b[39m}\n\u001b[0;32m----> 4\u001b[0m set33\u001b[38;5;241m+\u001b[39m\u001b[38;5;241m=\u001b[39mset34\n\u001b[1;32m      5\u001b[0m \u001b[38;5;28mprint\u001b[39m(set33)\n",
      "\u001b[0;31mTypeError\u001b[0m: unsupported operand type(s) for +=: 'set' and 'set'"
     ]
    }
   ],
   "source": [
    "# +=\n",
    "set33={1,2,3}\n",
    "set34={4,5}\n",
    "set33+=set34\n",
    "print(set33)"
   ]
  },
  {
   "cell_type": "code",
   "execution_count": 32,
   "metadata": {
    "colab": {
     "base_uri": "https://localhost:8080/"
    },
    "id": "67eqcwqyDiUp",
    "outputId": "8e02433f-a4df-4973-da2d-96f5f879918f"
   },
   "outputs": [
    {
     "name": "stdout",
     "output_type": "stream",
     "text": [
      "9\n",
      "1\n",
      "45\n",
      "[9, 8, 7, 6, 5, 4, 3, 2, 1]\n"
     ]
    }
   ],
   "source": [
    "# max,min,sum,sorted\n",
    "\n",
    "set35=[1,2,3,4,5,6,7,8,9]\n",
    "print(max(set35))\n",
    "print(min(set35))\n",
    "print(sum(set35))\n",
    "print(sorted(set35,reverse=True))"
   ]
  },
  {
   "cell_type": "code",
   "execution_count": 33,
   "metadata": {
    "colab": {
     "base_uri": "https://localhost:8080/",
     "height": 213
    },
    "id": "ozAtmqOJEW5-",
    "outputId": "9c0447d7-3388-4c88-b563-cc5b3aeafa69"
   },
   "outputs": [
    {
     "ename": "NameError",
     "evalue": "name 'set36' is not defined",
     "output_type": "error",
     "traceback": [
      "\u001b[0;31m---------------------------------------------------------------------------\u001b[0m",
      "\u001b[0;31mNameError\u001b[0m                                 Traceback (most recent call last)",
      "Input \u001b[0;32mIn [33]\u001b[0m, in \u001b[0;36m<cell line: 5>\u001b[0;34m()\u001b[0m\n\u001b[1;32m      3\u001b[0m set36\u001b[38;5;241m=\u001b[39m{\u001b[38;5;241m100\u001b[39m,\u001b[38;5;241m101\u001b[39m,\u001b[38;5;241m102\u001b[39m}\n\u001b[1;32m      4\u001b[0m \u001b[38;5;28;01mdel\u001b[39;00m set36\n\u001b[0;32m----> 5\u001b[0m \u001b[38;5;28mprint\u001b[39m(\u001b[43mset36\u001b[49m)\n",
      "\u001b[0;31mNameError\u001b[0m: name 'set36' is not defined"
     ]
    }
   ],
   "source": [
    "# del\n",
    "\n",
    "set36={100,101,102}\n",
    "del set36\n",
    "print(set36)"
   ]
  },
  {
   "cell_type": "code",
   "execution_count": 34,
   "metadata": {
    "colab": {
     "base_uri": "https://localhost:8080/"
    },
    "id": "jcjuWaVNEmuN",
    "outputId": "356ae303-0bb8-4ae2-f471-6232c19dec61"
   },
   "outputs": [
    {
     "name": "stdout",
     "output_type": "stream",
     "text": [
      "(0, 'a')(1, 'd')(2, 'b')(3, 'c')"
     ]
    }
   ],
   "source": [
    "# enumerate\n",
    "\n",
    "set37={'a','b','c','d',}\n",
    "for i in enumerate(set37):\n",
    "  print(i,end='')"
   ]
  },
  {
   "cell_type": "code",
   "execution_count": 35,
   "metadata": {
    "colab": {
     "base_uri": "https://localhost:8080/"
    },
    "id": "Oa77p9GpFcPr",
    "outputId": "abc44efd-b1fa-49ec-a78f-bb476de2da11"
   },
   "outputs": [
    {
     "name": "stdout",
     "output_type": "stream",
     "text": [
      "Are all elements even? :  True\n",
      "Is any element greater than 7? :  True\n"
     ]
    }
   ],
   "source": [
    "# all,any\n",
    "\n",
    "set38 = {2, 4, 6, 8, 10}\n",
    "are_all_even = all(item % 2 == 0 for item in set38)\n",
    "print(\"Are all elements even? : \", are_all_even)\n",
    "is_any_greater_than_7 = any(item > 7 for item in set38)\n",
    "print(\"Is any element greater than 7? : \", is_any_greater_than_7)"
   ]
  },
  {
   "cell_type": "code",
   "execution_count": 36,
   "metadata": {
    "colab": {
     "base_uri": "https://localhost:8080/"
    },
    "id": "kCi6cfhJ9PSs",
    "outputId": "c75b3092-1887-4b3e-c850-181807e075f7"
   },
   "outputs": [
    {
     "name": "stdout",
     "output_type": "stream",
     "text": [
      "{1, 2, 3, 4, 5, 6, 7, 8}\n",
      "{1, 2, 3, 4}\n",
      "{1, 3, 4}\n",
      "{1, 4}\n",
      "Popped element: 1\n",
      "{4}\n",
      "set()\n",
      "{10, 20, 30}\n"
     ]
    }
   ],
   "source": [
    "# methods\n",
    "\n",
    "set39 = {1,2,3,4,5}\n",
    "set40 = {6,7,8}\n",
    "\n",
    "# update\n",
    "set39.update(set40)\n",
    "print(set39) # non-destructive\n",
    "\n",
    "# add\n",
    "set41 = {1, 2, 3}\n",
    "set41.add(4)\n",
    "print(set41)\n",
    "\n",
    "# remove\n",
    "set41.remove(2)\n",
    "print(set41)\n",
    "\n",
    "# discard\n",
    "set41.discard(3) # does not give error if x is not present in the set\n",
    "print(set41)\n",
    "\n",
    "# pop\n",
    "popped_element = set41.pop()\n",
    "print(\"Popped element:\", popped_element)\n",
    "print(set41)\n",
    "\n",
    "# clear\n",
    "set41.clear()\n",
    "print(set41)\n",
    "\n",
    "# copy\n",
    "set42= {10, 20, 30}\n",
    "copied_set42 = set42.copy()\n",
    "print(copied_set42)"
   ]
  },
  {
   "cell_type": "code",
   "execution_count": 34,
   "metadata": {
    "colab": {
     "base_uri": "https://localhost:8080/"
    },
    "id": "u4ryBrxN94r6",
    "outputId": "3d51627e-7dfd-4631-f7b5-204651c7e57e"
   },
   "outputs": [
    {
     "name": "stdout",
     "output_type": "stream",
     "text": [
      "{3, 4, 5}\n",
      "{3, 4, 5}\n",
      "{1, 2, 3, 4, 5, 6}\n",
      "{1, 2, 3, 4, 5, 6}\n",
      "{1, 4}\n",
      "{1, 4}\n",
      "{1, 4, 5}\n",
      "{1, 4, 5}\n",
      "False\n",
      "False\n",
      "True\n",
      "True\n",
      "True\n",
      "False\n"
     ]
    }
   ],
   "source": [
    "# set operations\n",
    "\n",
    "# Intersection\n",
    "print({1, 2, 3, 4, 5}.intersection({3, 4, 5, 6})) # Method\n",
    "print({1, 2, 3, 4, 5} & {3, 4, 5, 6}) # operator\n",
    "# Union\n",
    "print({1, 2, 3, 4, 5}.union({3, 4, 5, 6}))\n",
    "print({1, 2, 3, 4, 5} | {3, 4, 5, 6})\n",
    "# Difference\n",
    "print({1, 2, 3, 4}.difference({2, 3, 5}))\n",
    "print({1, 2, 3, 4} - {2, 3, 5})\n",
    "# Symmetric difference with\n",
    "print({1, 2, 3, 4}.symmetric_difference({2, 3, 5}))\n",
    "print({1, 2, 3, 4} ^ {2, 3, 5})\n",
    "# Superset check\n",
    "print({1, 2}.issuperset({1, 2, 3}))\n",
    "print({1, 2} >= {1, 2, 3})\n",
    "# Subset check\n",
    "print({1, 2}.issubset({1, 2, 3}))\n",
    "print({1, 2} <= {1, 2, 3})\n",
    "# Disjoint check  # True if two sets have null intersection\n",
    "print({1, 2}.isdisjoint({3, 4}))\n",
    "print({1, 2}.isdisjoint({1, 4}))\n"
   ]
  },
  {
   "cell_type": "code",
   "execution_count": null,
   "metadata": {
    "id": "fiooWf07-s85"
   },
   "outputs": [],
   "source": [
    "# non-destructive vs destructive\n",
    "\n",
    "'''\n",
    "In Python sets, there are methods that perform operations and return a new set (non-destructive)\n",
    "and methods that perform operations and update the set in place (destructive).\n",
    "The methods that update the set in place generally have a _update suffix in their names.\n",
    "\n",
    "operators -\n",
    "\n",
    "|= - update\n",
    "-= - difference_update\n",
    "&= - intersection_update\n",
    "^= - symmetric_difference_update\n",
    "'''"
   ]
  },
  {
   "cell_type": "code",
   "execution_count": 37,
   "metadata": {
    "colab": {
     "base_uri": "https://localhost:8080/"
    },
    "id": "y4JXRecgLI4z",
    "outputId": "37fbb505-5a5c-48dc-b36f-60b8ca0569f3"
   },
   "outputs": [
    {
     "name": "stdout",
     "output_type": "stream",
     "text": [
      "{1, 2}\n"
     ]
    }
   ],
   "source": [
    "set43={1,2,3,4,5}\n",
    "set44={3,4,5,6,7}\n",
    "sd=set43.difference(set44)\n",
    "print(sd)"
   ]
  },
  {
   "cell_type": "code",
   "execution_count": 38,
   "metadata": {
    "colab": {
     "base_uri": "https://localhost:8080/"
    },
    "id": "isejnxpEhyX4",
    "outputId": "4759f6c5-80d7-4f7c-9517-1ac61f32ef44"
   },
   "outputs": [
    {
     "name": "stdout",
     "output_type": "stream",
     "text": [
      "{1, 2}\n"
     ]
    }
   ],
   "source": [
    "set45={1,2,3,4,5}\n",
    "set46={3,4,5,6,7}\n",
    "set45.difference_update(set46) # set45-=set46\n",
    "print(set45)"
   ]
  },
  {
   "cell_type": "code",
   "execution_count": null,
   "metadata": {
    "id": "UZGqCV7gJBZl"
   },
   "outputs": [],
   "source": [
    "# frozenset\n",
    "\n",
    "'''\n",
    "The primary difference between a regular set and a frozenset is that a set is mutable (its elements can be changed),\n",
    "while a frozenset is immutable (its elements cannot be changed).\n",
    "This makes frozensets useful when you need to use sets as elements in other sets or as keys in dictionaries where immutability is required.\n",
    "'''"
   ]
  },
  {
   "cell_type": "code",
   "execution_count": 39,
   "metadata": {
    "colab": {
     "base_uri": "https://localhost:8080/",
     "height": 213
    },
    "id": "XCTkzuN_K3X8",
    "outputId": "4afdf18d-a8f9-48c5-f5c5-d5099c2c4c6c"
   },
   "outputs": [
    {
     "ename": "AttributeError",
     "evalue": "'frozenset' object has no attribute 'add'",
     "output_type": "error",
     "traceback": [
      "\u001b[0;31m---------------------------------------------------------------------------\u001b[0m",
      "\u001b[0;31mAttributeError\u001b[0m                            Traceback (most recent call last)",
      "Input \u001b[0;32mIn [39]\u001b[0m, in \u001b[0;36m<cell line: 5>\u001b[0;34m()\u001b[0m\n\u001b[1;32m      3\u001b[0m set47 \u001b[38;5;241m=\u001b[39m {\u001b[38;5;241m1\u001b[39m, \u001b[38;5;241m2\u001b[39m, \u001b[38;5;241m3\u001b[39m}\n\u001b[1;32m      4\u001b[0m frozen_set \u001b[38;5;241m=\u001b[39m \u001b[38;5;28mfrozenset\u001b[39m(set47)\n\u001b[0;32m----> 5\u001b[0m \u001b[43mfrozen_set\u001b[49m\u001b[38;5;241;43m.\u001b[39;49m\u001b[43madd\u001b[49m(\u001b[38;5;241m4\u001b[39m)\n",
      "\u001b[0;31mAttributeError\u001b[0m: 'frozenset' object has no attribute 'add'"
     ]
    }
   ],
   "source": [
    "# creating a frozenset\n",
    "\n",
    "set47 = {1, 2, 3}\n",
    "frozen_set = frozenset(set47)\n",
    "frozen_set.add(4)"
   ]
  },
  {
   "cell_type": "code",
   "execution_count": 40,
   "metadata": {
    "id": "IDsGInJpmrrt"
   },
   "outputs": [
    {
     "name": "stdout",
     "output_type": "stream",
     "text": [
      "{frozenset({3, 4}), frozenset({1, 2})}\n"
     ]
    }
   ],
   "source": [
    "# set of frozensets\n",
    "\n",
    "set_of_frozensets = {frozenset({1, 2}), frozenset({3, 4})}\n",
    "print(set_of_frozensets)"
   ]
  },
  {
   "cell_type": "code",
   "execution_count": 41,
   "metadata": {
    "colab": {
     "base_uri": "https://localhost:8080/"
    },
    "id": "RZC86M8-xa5r",
    "outputId": "e462f2e7-d3d4-4b83-be28-0fca3eccb8dc"
   },
   "outputs": [
    {
     "name": "stdout",
     "output_type": "stream",
     "text": [
      "{(1, 2), (3, 4), (5, 6)}\n"
     ]
    }
   ],
   "source": [
    "# list of lists into a set of tuples\n",
    "\n",
    "def convert_list_of_lists_to_set_of_tuples(list_of_lists):\n",
    "    set_of_tuples = set(tuple(inner_list) for inner_list in list_of_lists)\n",
    "    return set_of_tuples\n",
    "\n",
    "list_of_lists = [[1, 2], [3, 4], [5, 6]]\n",
    "set_of_tuples = convert_list_of_lists_to_set_of_tuples(list_of_lists)\n",
    "print(set_of_tuples)"
   ]
  },
  {
   "cell_type": "code",
   "execution_count": 42,
   "metadata": {
    "colab": {
     "base_uri": "https://localhost:8080/"
    },
    "id": "pV6hktoo8tbv",
    "outputId": "64472e05-4742-4003-ce95-c75b0cd4ed50"
   },
   "outputs": [
    {
     "name": "stdout",
     "output_type": "stream",
     "text": [
      "{3}\n"
     ]
    }
   ],
   "source": [
    "# common_elements\n",
    "\n",
    "def find_common_elements(list_of_sets):\n",
    "    if not list_of_sets :\n",
    "        return set()\n",
    "    req_set = list_of_sets[0]\n",
    "    for el in list_of_sets[1:]:\n",
    "        req_set = req_set.intersection(el)\n",
    "    return req_set\n",
    "\n",
    "set_A = {1, 2, 3, 4}\n",
    "set_B = {3, 4, 5, 6}\n",
    "set_C = {2, 3, 7, 8}\n",
    "common_elements = find_common_elements([set_A, set_B, set_C])\n",
    "print(common_elements)\n"
   ]
  },
  {
   "cell_type": "code",
   "execution_count": null,
   "metadata": {
    "id": "J4ciHQBWCTlf"
   },
   "outputs": [],
   "source": [
    "!! Thank you !!"
   ]
  }
 ],
 "metadata": {
  "colab": {
   "provenance": []
  },
  "kernelspec": {
   "display_name": "Python 3 (ipykernel)",
   "language": "python",
   "name": "python3"
  },
  "language_info": {
   "codemirror_mode": {
    "name": "ipython",
    "version": 3
   },
   "file_extension": ".py",
   "mimetype": "text/x-python",
   "name": "python",
   "nbconvert_exporter": "python",
   "pygments_lexer": "ipython3",
   "version": "3.9.12"
  },
  "varInspector": {
   "cols": {
    "lenName": 16,
    "lenType": 16,
    "lenVar": 40
   },
   "kernels_config": {
    "python": {
     "delete_cmd_postfix": "",
     "delete_cmd_prefix": "del ",
     "library": "var_list.py",
     "varRefreshCmd": "print(var_dic_list())"
    },
    "r": {
     "delete_cmd_postfix": ") ",
     "delete_cmd_prefix": "rm(",
     "library": "var_list.r",
     "varRefreshCmd": "cat(var_dic_list()) "
    }
   },
   "types_to_exclude": [
    "module",
    "function",
    "builtin_function_or_method",
    "instance",
    "_Feature"
   ],
   "window_display": false
  }
 },
 "nbformat": 4,
 "nbformat_minor": 1
}
