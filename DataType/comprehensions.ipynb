{
 "cells": [
  {
   "cell_type": "code",
   "execution_count": 1,
   "metadata": {
    "id": "8tKmQNDpD133"
   },
   "outputs": [],
   "source": [
    "# Python Comprehensions at Your Fingertips: Crafting Clarity"
   ]
  },
  {
   "cell_type": "code",
   "execution_count": 2,
   "metadata": {
    "colab": {
     "base_uri": "https://localhost:8080/"
    },
    "id": "CzFewD-qFHO9",
    "outputId": "e142ecbe-ef18-4f2a-fa96-5d81a6ef8cde"
   },
   "outputs": [
    {
     "name": "stdout",
     "output_type": "stream",
     "text": [
      "[1, 4, 9, 16, 25, 36, 49, 64, 81, 100]\n",
      "[1, 4, 9, 16, 25, 36, 49, 64, 81, 100]\n"
     ]
    }
   ],
   "source": [
    "# syntax :  new_list = [expression for item in iterable]\n",
    "\n",
    "#R\n",
    "sq_list = []\n",
    "for x in range(1, 11):\n",
    "    sq_list.append(x ** 2)\n",
    "print(sq_list)\n",
    "\n",
    "#C\n",
    "sq_list = [x**2 for x in range(1,11)]\n",
    "print(sq_list)"
   ]
  },
  {
   "cell_type": "code",
   "execution_count": 3,
   "metadata": {
    "colab": {
     "base_uri": "https://localhost:8080/"
    },
    "id": "j5TkJBAAFUBD",
    "outputId": "8f31d2e6-ce8c-4e18-fbfe-10653bb65284"
   },
   "outputs": [
    {
     "name": "stdout",
     "output_type": "stream",
     "text": [
      "1 4 9 16 25 36 49 64 81 100 \n",
      "1 4 9 16 25 36 49 64 81 100 "
     ]
    }
   ],
   "source": [
    "# syntax : generator = (expression for item in iterable)\n",
    "\n",
    "#R\n",
    "def generate_sq():\n",
    "    for x in range(1, 11):\n",
    "        yield x ** 2\n",
    "sq_generator = generate_sq()\n",
    "for item in sq_generator:\n",
    "    print(item,end =' ')\n",
    "    \n",
    "print() # for new line\n",
    "\n",
    "#C\n",
    "sq_generator = (x**2 for x in range(1,11))\n",
    "for item in sq_generator:\n",
    "  print(item, end=' ')"
   ]
  },
  {
   "cell_type": "code",
   "execution_count": 4,
   "metadata": {
    "colab": {
     "base_uri": "https://localhost:8080/"
    },
    "id": "bSwHzuTdGXn-",
    "outputId": "44c3675f-2be2-4bdb-83ea-04723f05cddb"
   },
   "outputs": [
    {
     "name": "stdout",
     "output_type": "stream",
     "text": [
      "(1, 4, 9, 16, 25, 36, 49, 64, 81, 100)\n",
      "(1, 4, 9, 16, 25, 36, 49, 64, 81, 100)\n"
     ]
    }
   ],
   "source": [
    "#R\n",
    "def generate_sq():\n",
    "    for x in range(1, 11):\n",
    "        yield x ** 2\n",
    "\n",
    "sq_generator = generate_sq()\n",
    "sq_tuple=tuple(generate_sq())\n",
    "print(sq_tuple)\n",
    "\n",
    "#C\n",
    "sq_tuple=tuple((x**2 for x in range(1,11)))\n",
    "print(sq_tuple)"
   ]
  },
  {
   "cell_type": "code",
   "execution_count": 5,
   "metadata": {
    "colab": {
     "base_uri": "https://localhost:8080/"
    },
    "id": "RTLE6wEmFdqi",
    "outputId": "70ac5f46-f8b3-4c04-c681-30a62edfd4cc"
   },
   "outputs": [
    {
     "name": "stdout",
     "output_type": "stream",
     "text": [
      "{64, 1, 4, 36, 100, 9, 16, 49, 81, 25}\n",
      "{64, 1, 4, 36, 100, 9, 16, 49, 81, 25}\n"
     ]
    }
   ],
   "source": [
    "# syntax : new_set = {expression for item in iterable}\n",
    "\n",
    "#R\n",
    "sq_set = set()\n",
    "for x in range(1, 11):\n",
    "    sq_set.add(x ** 2)\n",
    "print(sq_set)\n",
    "\n",
    "#C\n",
    "sq_set={x**2 for x in range(1,11)}\n",
    "print(sq_set)"
   ]
  },
  {
   "cell_type": "code",
   "execution_count": 6,
   "metadata": {
    "colab": {
     "base_uri": "https://localhost:8080/"
    },
    "id": "VyFkSyKWFjUO",
    "outputId": "7b97cdb9-027c-4d52-e08d-6c025d87e85b"
   },
   "outputs": [
    {
     "name": "stdout",
     "output_type": "stream",
     "text": [
      "{1: 1, 2: 4, 3: 9, 4: 16, 5: 25, 6: 36, 7: 49, 8: 64, 9: 81, 10: 100}\n",
      "{1: 1, 2: 4, 3: 9, 4: 16, 5: 25, 6: 36, 7: 49, 8: 64, 9: 81, 10: 100}\n"
     ]
    }
   ],
   "source": [
    "# syntax : new_dict = {key_expression: value_expression for item in iterable}\n",
    "\n",
    "#R\n",
    "sq_dict = {}\n",
    "for x in range(1, 11):\n",
    "    sq_dict[x] = x ** 2\n",
    "print(sq_dict)\n",
    "\n",
    "#C\n",
    "sq_dict={x : x**2 for x in range(1,11)}\n",
    "print(sq_dict)"
   ]
  },
  {
   "cell_type": "code",
   "execution_count": 7,
   "metadata": {
    "colab": {
     "base_uri": "https://localhost:8080/"
    },
    "id": "kxhmSAKSGwbD",
    "outputId": "30b3a4c6-485b-46b6-91d0-1505c76613ef"
   },
   "outputs": [
    {
     "name": "stdout",
     "output_type": "stream",
     "text": [
      "[4, 16, 36, 64, 100]\n",
      "[4, 16, 36, 64, 100]\n",
      "{1, 9, 81, 49, 25}\n",
      "{1, 9, 81, 49, 25}\n",
      "{2: 4, 4: 16, 6: 36, 8: 64, 10: 100}\n",
      "{2: 4, 4: 16, 6: 36, 8: 64, 10: 100}\n"
     ]
    }
   ],
   "source": [
    "# conditional comprehension\n",
    "# syntax = expression for item in iterable if condition\n",
    "\n",
    "#R\n",
    "esq_list = []\n",
    "for x in range(1, 11):\n",
    "  if x%2==0:\n",
    "    esq_list.append(x ** 2)\n",
    "print(esq_list)\n",
    "\n",
    "#C\n",
    "esq_list = [x**2 for x in range(1,11) if x%2==0]\n",
    "print(esq_list)\n",
    "\n",
    "#R\n",
    "osq_set = set()\n",
    "for x in range(1, 11):\n",
    "  if x%2!=0:\n",
    "    osq_set.add(x ** 2)\n",
    "print(osq_set)\n",
    "\n",
    "#C\n",
    "osq_set = {x**2 for x in range(1,11) if x%2!=0}\n",
    "print(osq_set)\n",
    "\n",
    "#R\n",
    "esq_dict = {}\n",
    "for x in range(1, 11):\n",
    "  if x%2==0:\n",
    "    esq_dict[x] = x ** 2\n",
    "print(esq_dict)\n",
    "\n",
    "#C\n",
    "esq_dict ={x : x**2 for x in range(1,11) if x%2==0}\n",
    "print(esq_dict)"
   ]
  },
  {
   "cell_type": "code",
   "execution_count": 8,
   "metadata": {
    "colab": {
     "base_uri": "https://localhost:8080/"
    },
    "id": "QqJfigyWH0Em",
    "outputId": "7e5816bb-7713-4d4b-8ee8-d1e8307c1fdb"
   },
   "outputs": [
    {
     "name": "stdout",
     "output_type": "stream",
     "text": [
      "['odd', 'even', 'odd', 'even', 'odd', 'even', 'odd', 'even', 'odd', 'even']\n",
      "['odd', 'even', 'odd', 'even', 'odd', 'even', 'odd', 'even', 'odd', 'even']\n"
     ]
    }
   ],
   "source": [
    "# if-else\n",
    "\n",
    "# syntax = expression_if_true if condition else expression_if_false for item in iterable\n",
    "# Creating a list of even and odd labels\n",
    "\n",
    "# ** Wrong syntax : for item in iterable expression_if_true if condition else expression_if_false\n",
    "\n",
    "#R\n",
    "numbers = [1, 2, 3, 4, 5, 6,7,8,9,10]\n",
    "even_odd_labels=[]\n",
    "for num in numbers:\n",
    "  if num%2==0:\n",
    "    even_odd_labels.append('even')\n",
    "  else:\n",
    "    even_odd_labels.append('odd')\n",
    "print(even_odd_labels)\n",
    "\n",
    "#C\n",
    "numbers = [1, 2, 3, 4, 5, 6,7,8,9,10]\n",
    "even_odd_labels = ['even' if num % 2 == 0 else 'odd' for num in numbers]\n",
    "print(even_odd_labels)"
   ]
  },
  {
   "cell_type": "code",
   "execution_count": 9,
   "metadata": {
    "colab": {
     "base_uri": "https://localhost:8080/",
     "height": 142
    },
    "id": "NxSSO90h0tVN",
    "outputId": "0737f4b0-c456-4794-fa16-68603f55e878"
   },
   "outputs": [
    {
     "ename": "SyntaxError",
     "evalue": "invalid syntax (352355115.py, line 2)",
     "output_type": "error",
     "traceback": [
      "\u001b[0;36m  Input \u001b[0;32mIn [9]\u001b[0;36m\u001b[0m\n\u001b[0;31m    even_odd_labels = [num for num in numbers 'even' if num % 2 == 0 else 'odd']\u001b[0m\n\u001b[0m                                              ^\u001b[0m\n\u001b[0;31mSyntaxError\u001b[0m\u001b[0;31m:\u001b[0m invalid syntax\n"
     ]
    }
   ],
   "source": [
    "numbers = [1, 2, 3, 4, 5, 6,7,8,9,10]\n",
    "even_odd_labels = [num for num in numbers 'even' if num % 2 == 0 else 'odd']\n",
    "print(even_odd_labels)"
   ]
  },
  {
   "cell_type": "code",
   "execution_count": 10,
   "metadata": {
    "colab": {
     "base_uri": "https://localhost:8080/"
    },
    "id": "0YWa7xU7V0EU",
    "outputId": "e6b16f35-de21-4ca1-ea17-06dcf9b1aa86"
   },
   "outputs": [
    {
     "name": "stdout",
     "output_type": "stream",
     "text": [
      "{1: 'odd', 2: 'even', 3: 'odd', 4: 'even', 5: 'odd', 6: 'even', 7: 'odd', 8: 'even', 9: 'odd', 10: 'even'}\n",
      "{1: 'odd', 2: 'even', 3: 'odd', 4: 'even', 5: 'odd', 6: 'even', 7: 'odd', 8: 'even', 9: 'odd', 10: 'even'}\n"
     ]
    }
   ],
   "source": [
    "#R\n",
    "even_odd_dict = {}\n",
    "for num in [1, 2, 3, 4, 5, 6, 7, 8, 9, 10] :\n",
    "    if num % 2 == 0:\n",
    "        even_odd_dict[num] = 'even'\n",
    "    else:\n",
    "        even_odd_dict[num] = 'odd'\n",
    "\n",
    "print(even_odd_dict)\n",
    "\n",
    "#C\n",
    "even_odd_dict = {num: 'even' if num % 2 == 0 else 'odd' for num in [1, 2, 3, 4, 5, 6,7,8,9,10]}\n",
    "print(even_odd_dict)"
   ]
  },
  {
   "cell_type": "code",
   "execution_count": 11,
   "metadata": {
    "colab": {
     "base_uri": "https://localhost:8080/"
    },
    "id": "wqFs7uX9INPt",
    "outputId": "778e67ab-f8b4-406b-e421-cf95d2e504c7"
   },
   "outputs": [
    {
     "name": "stdout",
     "output_type": "stream",
     "text": [
      "[[0, 1, 2], [3, 4, 5], [6, 7, 8], [9, 10, 11]]\n",
      "[[0, 1, 2], [3, 4, 5], [6, 7, 8], [9, 10, 11]]\n"
     ]
    }
   ],
   "source": [
    "# nested loop\n",
    "# syntax = expression for outer_item in outer_iterable for inner_item in inner_iterable\n",
    "\n",
    "#R\n",
    "matrix = []\n",
    "for i in range(4):\n",
    "    row = []\n",
    "    for j in range(3):\n",
    "        row.append(i * 3 + j)\n",
    "    matrix.append(row)\n",
    "print(matrix)\n",
    "\n",
    "#C\n",
    "matrix = [[i * 3 + j for j in range(3)] for i in range(4)]\n",
    "print(matrix)"
   ]
  },
  {
   "cell_type": "code",
   "execution_count": 12,
   "metadata": {
    "colab": {
     "base_uri": "https://localhost:8080/"
    },
    "id": "hPPoELWvYSi_",
    "outputId": "20787a55-1332-488f-8c39-641634a48ef0"
   },
   "outputs": [
    {
     "name": "stdout",
     "output_type": "stream",
     "text": [
      "[[2], [4, 6], [8]]\n",
      "[[2], [4, 6], [8]]\n"
     ]
    }
   ],
   "source": [
    "matrix = [[1, 2, 3],\n",
    "          [4, 5, 6],\n",
    "          [7, 8, 9]]\n",
    "\n",
    "#R\n",
    "filtered_matrix = []\n",
    "for row in matrix:\n",
    "    filtered_row = []\n",
    "    for num in row:\n",
    "        if num % 2 == 0:\n",
    "            filtered_row.append(num)\n",
    "    filtered_matrix.append(filtered_row)\n",
    "\n",
    "print(filtered_matrix)\n",
    "\n",
    "#C\n",
    "filtered_matrix = [[num for num in row if num % 2 == 0] for row in matrix]\n",
    "print(filtered_matrix)"
   ]
  },
  {
   "cell_type": "code",
   "execution_count": 13,
   "metadata": {
    "colab": {
     "base_uri": "https://localhost:8080/"
    },
    "id": "re3alBU-Xg_E",
    "outputId": "b726b2c5-5bcb-41d3-f388-f07e3508febc"
   },
   "outputs": [
    {
     "name": "stdout",
     "output_type": "stream",
     "text": [
      "[('red', 'small'), ('red', 'medium'), ('red', 'large'), ('blue', 'small'), ('blue', 'medium'), ('blue', 'large')]\n",
      "[('red', 'small'), ('red', 'medium'), ('red', 'large'), ('blue', 'small'), ('blue', 'medium'), ('blue', 'large')]\n"
     ]
    }
   ],
   "source": [
    "#R\n",
    "colors = ['red', 'green', 'blue']\n",
    "sizes = ['small', 'medium', 'large']\n",
    "\n",
    "combinations = []\n",
    "for color in colors:\n",
    "    for size in sizes:\n",
    "        if color != 'green':\n",
    "            combinations.append((color, size))\n",
    "print(combinations)\n",
    "\n",
    "#C\n",
    "combinations = [(color, size) for color in colors for size in sizes if color != 'green']\n",
    "print(combinations)\n"
   ]
  },
  {
   "cell_type": "code",
   "execution_count": 14,
   "metadata": {
    "colab": {
     "base_uri": "https://localhost:8080/"
    },
    "id": "slchZHiiOB-7",
    "outputId": "47c123dd-1828-44dd-8b03-1b9c15ebde69"
   },
   "outputs": [
    {
     "name": "stdout",
     "output_type": "stream",
     "text": [
      "[2, 3, 5, 7, 11, 13, 17, 19, 23, 29, 31, 37, 41, 43, 47]\n"
     ]
    }
   ],
   "source": [
    "# Regular Function in List Comprehension\n",
    "\n",
    "def is_prime(n):\n",
    "    if n <= 1:\n",
    "        return False\n",
    "    for i in range(2, int(n ** 0.5) + 1):\n",
    "        if n % i == 0:\n",
    "            return False\n",
    "    return True\n",
    "\n",
    "prime_numbers = [num for num in range(2, 50) if is_prime(num)]\n",
    "print(prime_numbers)"
   ]
  },
  {
   "cell_type": "code",
   "execution_count": 15,
   "metadata": {
    "colab": {
     "base_uri": "https://localhost:8080/"
    },
    "id": "fISpIl_aOmXi",
    "outputId": "85f350b9-108b-4287-e0ba-083f04ee02a3"
   },
   "outputs": [
    {
     "name": "stdout",
     "output_type": "stream",
     "text": [
      "[2, 3, 5, 7, 11, 13, 17, 19, 23, 29, 31, 37, 41, 43, 47]\n"
     ]
    }
   ],
   "source": [
    "def get_prime_number(num):\n",
    "    if num <= 1:\n",
    "        return None\n",
    "    for i in range(2, int(num ** 0.5) + 1):\n",
    "        if num % i == 0:\n",
    "            return None\n",
    "    return num\n",
    "\n",
    "prime_numbers=[get_prime_number(num) for num in range(2,50) if get_prime_number(num) is not None ]\n",
    "print(prime_numbers)"
   ]
  },
  {
   "cell_type": "code",
   "execution_count": 16,
   "metadata": {
    "colab": {
     "base_uri": "https://localhost:8080/"
    },
    "id": "T6Aa77hML4gS",
    "outputId": "3607948c-6eeb-47b8-d6d7-c9339b13170c"
   },
   "outputs": [
    {
     "name": "stdout",
     "output_type": "stream",
     "text": [
      "[2, 3, 5, 7, 11, 13, 17, 19, 23, 29, 31, 37, 41, 43, 47]\n"
     ]
    }
   ],
   "source": [
    " # lambda Function in List Comprehension\n",
    "prime_numbers = [num for num in range(2,50) if (lambda n: all(n % i != 0 for i in range(2, int(n ** 0.5) + 1)))(num)]\n",
    "print(prime_numbers)\n"
   ]
  },
  {
   "cell_type": "code",
   "execution_count": 17,
   "metadata": {
    "colab": {
     "base_uri": "https://localhost:8080/"
    },
    "id": "_-GGVvNHKqp0",
    "outputId": "65755bcb-f868-49be-be70-342638b070e8"
   },
   "outputs": [
    {
     "name": "stdout",
     "output_type": "stream",
     "text": [
      "[2, 3, 5, 7, 11, 13, 17, 19, 23, 29, 31, 37, 41, 43, 47]\n"
     ]
    }
   ],
   "source": [
    "get_prime_number = lambda num: num if (num > 1 and all(num % i != 0 for i in range(2, int(num ** 0.5) + 1))) else None\n",
    "prime_numbers = [get_prime_number(num) for num in range(2,50) if get_prime_number(num) is not None]\n",
    "print(prime_numbers)"
   ]
  },
  {
   "cell_type": "code",
   "execution_count": 18,
   "metadata": {
    "colab": {
     "base_uri": "https://localhost:8080/"
    },
    "id": "bZ05JFGrp-NX",
    "outputId": "3c78a536-08d2-4f5c-b7d8-1ae374fb20dd"
   },
   "outputs": [
    {
     "name": "stdout",
     "output_type": "stream",
     "text": [
      "[2]\n"
     ]
    }
   ],
   "source": [
    "get_prime_number = lambda num: num if (num > 1 and all(num % i != 0 for i in range(2, int(num ** 0.5) + 1))) else None\n",
    "eprime_numbers = [get_prime_number(num) for num in range(2,50) if get_prime_number(num) is not None and get_prime_number(num)%2==0]\n",
    "print(eprime_numbers)"
   ]
  },
  {
   "cell_type": "code",
   "execution_count": 19,
   "metadata": {
    "colab": {
     "base_uri": "https://localhost:8080/"
    },
    "id": "31OO5c5lqLKy",
    "outputId": "d9413833-b392-4fce-8be3-d201d1ffa6cb"
   },
   "outputs": [
    {
     "name": "stdout",
     "output_type": "stream",
     "text": [
      "[34, 30, 47, 16, 42, 30, 25, 7, 35, 42]\n"
     ]
    }
   ],
   "source": [
    "# In-place Mutation\n",
    "from random import randrange\n",
    "random_numbers=[randrange(1, 51) for _ in range(10)]\n",
    "print(random_numbers)"
   ]
  },
  {
   "cell_type": "code",
   "execution_count": 20,
   "metadata": {
    "colab": {
     "base_uri": "https://localhost:8080/"
    },
    "id": "sCq6YZkKryO9",
    "outputId": "8b2b5955-84b9-4fec-88ee-eeebce975e04"
   },
   "outputs": [
    {
     "name": "stdout",
     "output_type": "stream",
     "text": [
      "[[1, 2], [3, 4], [0, 1]]\n"
     ]
    }
   ],
   "source": [
    "print([sorted(x) for x in [[2, 1], [4, 3], [0, 1]]])"
   ]
  },
  {
   "cell_type": "code",
   "execution_count": 21,
   "metadata": {
    "colab": {
     "base_uri": "https://localhost:8080/"
    },
    "id": "dLw9nGCd1Y7j",
    "outputId": "a1b30f50-f811-4038-cfe1-f29ef75dbc78"
   },
   "outputs": [
    {
     "name": "stdout",
     "output_type": "stream",
     "text": [
      "[None, None, None]\n"
     ]
    }
   ],
   "source": [
    "print([x.sort() for x in [[2, 1], [4, 3], [0, 1]]])\n",
    "\n",
    "#list.sort() sorts a list in-place(meaning that it modifies the original list)\n",
    "#and returns the value None. Therefore, it won't work as expected in a list comprehension:"
   ]
  },
  {
   "cell_type": "code",
   "execution_count": 22,
   "metadata": {
    "colab": {
     "base_uri": "https://localhost:8080/"
    },
    "id": "fOnpGAE3sUrO",
    "outputId": "0ab7d59d-3900-4353-8161-79ce3d45b2ed"
   },
   "outputs": [
    {
     "name": "stdout",
     "output_type": "stream",
     "text": [
      "1\n",
      "2\n",
      "3\n"
     ]
    },
    {
     "data": {
      "text/plain": [
       "[None, None, None]"
      ]
     },
     "execution_count": 22,
     "metadata": {},
     "output_type": "execute_result"
    }
   ],
   "source": [
    "# Not recommended\n",
    "\n",
    "[print(x) for x in (1, 2, 3)]\n",
    "\n",
    "# using a list comprehension in this manner is not the common or\n",
    "# recommended approach for achieving side effects like printing."
   ]
  },
  {
   "cell_type": "code",
   "execution_count": null,
   "metadata": {},
   "outputs": [],
   "source": [
    "''' Many more permutations are possible; explore more to enhance your coding Skills.\n",
    "!!! Thank You !!! '''"
   ]
  }
 ],
 "metadata": {
  "colab": {
   "provenance": []
  },
  "kernelspec": {
   "display_name": "Python 3 (ipykernel)",
   "language": "python",
   "name": "python3"
  },
  "language_info": {
   "codemirror_mode": {
    "name": "ipython",
    "version": 3
   },
   "file_extension": ".py",
   "mimetype": "text/x-python",
   "name": "python",
   "nbconvert_exporter": "python",
   "pygments_lexer": "ipython3",
   "version": "3.9.12"
  },
  "varInspector": {
   "cols": {
    "lenName": 16,
    "lenType": 16,
    "lenVar": 40
   },
   "kernels_config": {
    "python": {
     "delete_cmd_postfix": "",
     "delete_cmd_prefix": "del ",
     "library": "var_list.py",
     "varRefreshCmd": "print(var_dic_list())"
    },
    "r": {
     "delete_cmd_postfix": ") ",
     "delete_cmd_prefix": "rm(",
     "library": "var_list.r",
     "varRefreshCmd": "cat(var_dic_list()) "
    }
   },
   "types_to_exclude": [
    "module",
    "function",
    "builtin_function_or_method",
    "instance",
    "_Feature"
   ],
   "window_display": false
  }
 },
 "nbformat": 4,
 "nbformat_minor": 1
}
