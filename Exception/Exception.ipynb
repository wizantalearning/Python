{
 "cells": [
  {
   "cell_type": "code",
   "execution_count": null,
   "metadata": {
    "id": "Ln0R_Ao0Y66V"
   },
   "outputs": [],
   "source": [
    "# Exceptions Handling - Concept Building Notebook"
   ]
  },
  {
   "cell_type": "code",
   "execution_count": null,
   "metadata": {
    "id": "Rq8zdksg5fi7"
   },
   "outputs": [],
   "source": [
    "'''\n",
    "-- Topics--\n",
    "1. Handling Exceptions\n",
    "2. Multi times except\n",
    "3. multi except in single line\n",
    "4. else \n",
    "5. finally \n",
    "6. assert\n",
    "7. raise\n",
    "8. Builtin exceptions, userdefined exceptions\n",
    "9. flowchart of exceptions\n",
    "'''"
   ]
  },
  {
   "cell_type": "code",
   "execution_count": null,
   "metadata": {
    "id": "4bFmEZqyV6an"
   },
   "outputs": [],
   "source": [
    "'''\n",
    "Even if our program's statements are syntactically correct,\n",
    "situations may arise during runtime that the program cannot handle normally.\n",
    "In such cases, the program will halt and generate an error message.\n",
    "This type of runtime error is referred to as an exception.\n",
    "or\n",
    "we say that an exception is a python object that represents an run-time error.\n",
    "'''"
   ]
  },
  {
   "cell_type": "code",
   "execution_count": null,
   "metadata": {
    "id": "VLDuFzDAWuPE"
   },
   "outputs": [],
   "source": [
    "# synchronous exception : like divide by zero,array index out of bound, etc\n",
    "# asynchronous exception : interrupt from keyword,hardware malfunction, or disk failure"
   ]
  },
  {
   "cell_type": "code",
   "execution_count": 1,
   "metadata": {
    "colab": {
     "base_uri": "https://localhost:8080/"
    },
    "id": "dxBssQR56fei",
    "outputId": "e3e9838e-c412-4c2c-af8d-76017fa740da"
   },
   "outputs": [
    {
     "name": "stdout",
     "output_type": "stream",
     "text": [
      "Enter your dividend : 350\n",
      "Enter Divisor for dividend 350: 0\n"
     ]
    },
    {
     "ename": "ZeroDivisionError",
     "evalue": "division by zero",
     "output_type": "error",
     "traceback": [
      "\u001b[0;31m---------------------------------------------------------------------------\u001b[0m",
      "\u001b[0;31mZeroDivisionError\u001b[0m                         Traceback (most recent call last)",
      "Input \u001b[0;32mIn [1]\u001b[0m, in \u001b[0;36m<cell line: 3>\u001b[0;34m()\u001b[0m\n\u001b[1;32m      1\u001b[0m dividend\u001b[38;5;241m=\u001b[39m\u001b[38;5;28mint\u001b[39m(\u001b[38;5;28minput\u001b[39m(\u001b[38;5;124m'\u001b[39m\u001b[38;5;124mEnter your dividend : \u001b[39m\u001b[38;5;124m'\u001b[39m))\n\u001b[1;32m      2\u001b[0m divisor\u001b[38;5;241m=\u001b[39m\u001b[38;5;28mint\u001b[39m(\u001b[38;5;28minput\u001b[39m(\u001b[38;5;124mf\u001b[39m\u001b[38;5;124m'\u001b[39m\u001b[38;5;124mEnter Divisor for dividend \u001b[39m\u001b[38;5;132;01m{\u001b[39;00mdividend\u001b[38;5;132;01m}\u001b[39;00m\u001b[38;5;124m: \u001b[39m\u001b[38;5;124m'\u001b[39m))\n\u001b[0;32m----> 3\u001b[0m result\u001b[38;5;241m=\u001b[39m\u001b[43mdividend\u001b[49m\u001b[38;5;241;43m/\u001b[39;49m\u001b[43mdivisor\u001b[49m\n\u001b[1;32m      4\u001b[0m \u001b[38;5;28mprint\u001b[39m(result)\n",
      "\u001b[0;31mZeroDivisionError\u001b[0m: division by zero"
     ]
    }
   ],
   "source": [
    "dividend=int(input('Enter your dividend : '))\n",
    "divisor=int(input(f'Enter Divisor for dividend {dividend}: '))\n",
    "result=dividend/divisor\n",
    "print(result)"
   ]
  },
  {
   "cell_type": "code",
   "execution_count": null,
   "metadata": {
    "id": "sMasfLTTScDE"
   },
   "outputs": [],
   "source": [
    "'''\n",
    " When designing a module that may raise various exceptions, it's recommended to\n",
    " establish a base exception class within the module. This base class can serve as\n",
    " a foundation for other specific exception classes, each representing distinct error scenarios.\n",
    " By using subclassing.\n",
    "'''"
   ]
  },
  {
   "cell_type": "code",
   "execution_count": null,
   "metadata": {
    "id": "n-KMN_65i9-L"
   },
   "outputs": [],
   "source": [
    "'''\n",
    "The majority of exceptions raised by Python are implemented as classes.\n",
    "When an exception occurs, an instance of the corresponding exception class is created,\n",
    "often with an argument that provides additional information about the error.\n",
    "'''"
   ]
  },
  {
   "cell_type": "code",
   "execution_count": 2,
   "metadata": {
    "colab": {
     "base_uri": "https://localhost:8080/"
    },
    "id": "ibftnmW4ghLN",
    "outputId": "e585a759-367e-489a-cdf4-eed1e57e892a"
   },
   "outputs": [
    {
     "name": "stdout",
     "output_type": "stream",
     "text": [
      "Enter your dividend : 350\n",
      "Enter Divisor for dividend 350: 0\n",
      "Error : division by zero\n"
     ]
    }
   ],
   "source": [
    "try:\n",
    "  dividend=int(input('Enter your dividend : '))\n",
    "  divisor=int(input(f'Enter Divisor for dividend {dividend}: '))\n",
    "  result=dividend/divisor\n",
    "  print(result)\n",
    "except ZeroDivisionError as Ze : # Avoid using except block without using any axception\n",
    "  print(f'Error : {Ze}')"
   ]
  },
  {
   "cell_type": "code",
   "execution_count": null,
   "metadata": {
    "id": "SzRszmyNhPnM"
   },
   "outputs": [],
   "source": [
    "# let me explain above code\n",
    "'''\n",
    "In case of 0 as a divisor, a ZeroDivisionError will occur when trying to perform the division.\n",
    "Python will create an instance of the ZeroDivisionError class and assign it to the variable Ze.\n",
    "This instance contains information about the error, such as the error message \"division by zero\".\n",
    "The code inside the except block can then use this instance to provide an informative error message to the user.\n",
    "'''"
   ]
  },
  {
   "cell_type": "code",
   "execution_count": 3,
   "metadata": {
    "colab": {
     "base_uri": "https://localhost:8080/"
    },
    "id": "j3T1z-VCkR5l",
    "outputId": "331a7721-815d-49a8-ce69-c2d2cbc4f990"
   },
   "outputs": [
    {
     "name": "stdout",
     "output_type": "stream",
     "text": [
      "Enter your dividend : 350\n",
      "Enter Divisor for dividend 350: 0\n",
      "Error: division by zero --> Divisior should not be zero\n"
     ]
    }
   ],
   "source": [
    "try:\n",
    "  dividend=int(input('Enter your dividend : '))\n",
    "  divisor=int(input(f'Enter Divisor for dividend {dividend}: '))\n",
    "  result=dividend/divisor\n",
    "  print(result)\n",
    "except ZeroDivisionError as Ze : #ZeroDivisionError\n",
    "  print(f'Error: {Ze} --> Divisior should not be zero')"
   ]
  },
  {
   "cell_type": "code",
   "execution_count": null,
   "metadata": {
    "id": "0FZ4YiBwRlYZ"
   },
   "outputs": [],
   "source": [
    "# Multiple-Expect Blocks"
   ]
  },
  {
   "cell_type": "code",
   "execution_count": 4,
   "metadata": {
    "colab": {
     "base_uri": "https://localhost:8080/"
    },
    "id": "XZgxhDSH95BN",
    "outputId": "67646924-1735-42e8-dd09-4a15a8d5d39b"
   },
   "outputs": [
    {
     "name": "stdout",
     "output_type": "stream",
     "text": [
      "Enter your dividend : 350\n",
      "Enter Divisor for dividend 350: 0\n",
      "Error: division by zero --> Divisior should not be zero\n"
     ]
    }
   ],
   "source": [
    "#ZeroDivisionError\n",
    "try:\n",
    "  dividend=int(input('Enter your dividend : '))\n",
    "  divisor=int(input(f'Enter Divisor for dividend {dividend}: '))\n",
    "  result=dividend/divisor\n",
    "  print(result)\n",
    "except ZeroDivisionError as Ze : #ZeroDivisionError\n",
    "  print(f'Error: {Ze} --> Divisior should not be zero')\n",
    "except Exception as e: #Exception\n",
    "  print(f'Error: {e}')"
   ]
  },
  {
   "cell_type": "code",
   "execution_count": 5,
   "metadata": {
    "colab": {
     "base_uri": "https://localhost:8080/"
    },
    "id": "hMZlAATKhfu5",
    "outputId": "8c444505-8594-4587-8dc9-57049f861bd8"
   },
   "outputs": [
    {
     "name": "stdout",
     "output_type": "stream",
     "text": [
      "Enter your dividend : 350\n",
      "Enter Divisor for dividend 350: 3+4j\n",
      "Error: invalid literal for int() with base 10: '3+4j'\n"
     ]
    }
   ],
   "source": [
    "#ZeroDivisionError\n",
    "try:\n",
    "  dividend=int(input('Enter your dividend : '))\n",
    "  divisor=int(input(f'Enter Divisor for dividend {dividend}: '))\n",
    "  result=dividend/divisor\n",
    "  print(result)\n",
    "except ZeroDivisionError as Ze : #ZeroDivisionError\n",
    "  print(f'Error: {Ze},Divisior should not be zero')\n",
    "except Exception as e: #Exception\n",
    "  print(f'Error: {e}')"
   ]
  },
  {
   "cell_type": "code",
   "execution_count": 6,
   "metadata": {
    "colab": {
     "base_uri": "https://localhost:8080/"
    },
    "id": "UXUP8BrP_kDI",
    "outputId": "1143a259-44b9-4f12-91e5-f20dc187df54"
   },
   "outputs": [
    {
     "name": "stdout",
     "output_type": "stream",
     "text": [
      "Enter your dividend : 350\n",
      "Enter Divisor for dividend 350: 3+4j\n",
      "Error: invalid literal for int() with base 10: '3+4j' --> Divisior should be integer\n"
     ]
    }
   ],
   "source": [
    "#ValueError\n",
    "try:\n",
    "  dividend=int(input('Enter your dividend : '))\n",
    "  divisor=int(input(f'Enter Divisor for dividend {dividend}: '))\n",
    "  result=dividend/divisor\n",
    "  print(result)\n",
    "except ZeroDivisionError as Ze: #ZeroDivisionError\n",
    "  print(f'Error : {Ze} --> ZeDivisior should not be zero')\n",
    "except ValueError as Ve: #ValueError\n",
    "  print(f'Error: {Ve} --> Divisior should be integer')\n",
    "except Exception as e : #Exception\n",
    "  print(f'Error: {e}')"
   ]
  },
  {
   "cell_type": "code",
   "execution_count": 7,
   "metadata": {
    "colab": {
     "base_uri": "https://localhost:8080/"
    },
    "id": "cSFjhB6X_8mT",
    "outputId": "8831477e-a416-47c2-9645-bc66f0a858fa"
   },
   "outputs": [
    {
     "name": "stdout",
     "output_type": "stream",
     "text": [
      "Enter your dividend : 350\n",
      "Enter Divisor for dividend 350: 5\n",
      "Error: name 'result1' is not defined\n"
     ]
    }
   ],
   "source": [
    "# NameError\n",
    "try:\n",
    "  dividend=int(input('Enter your dividend : '))\n",
    "  divisor=int(input(f'Enter Divisor for dividend {dividend}: '))\n",
    "  result=dividend/divisor\n",
    "  print(result1)\n",
    "except ZeroDivisionError as Ze: #ZeroDivisionError\n",
    "  print(f'Error : {Ze} --> ZeDivisior should not be zero')\n",
    "except ValueError as Ve: #ValueError\n",
    "  print(f'Error: {Ve} --> Divisior should be integer')\n",
    "except Exception as e : #Exception\n",
    "  print(f'Error: {e}')"
   ]
  },
  {
   "cell_type": "code",
   "execution_count": 8,
   "metadata": {
    "colab": {
     "base_uri": "https://localhost:8080/"
    },
    "id": "hV3qE9g5AHU5",
    "outputId": "e946f932-e92f-4d74-f094-331834ee38fb"
   },
   "outputs": [
    {
     "name": "stdout",
     "output_type": "stream",
     "text": [
      "Enter your dividend : 350\n",
      "Enter Divisor for dividend 350: 5\n",
      "Error: name 'result1' is not defined --> Undefined Identifiers called\n"
     ]
    }
   ],
   "source": [
    "# NameError\n",
    "try:\n",
    "  dividend=int(input('Enter your dividend : '))\n",
    "  divisor=int(input(f'Enter Divisor for dividend {dividend}: '))\n",
    "  result=dividend/divisor\n",
    "  print(result1)\n",
    "except ZeroDivisionError as Ze: #ZeroDivisionError\n",
    "  print(f'Error : {Ze} --> ZeDivisior should not be zero')\n",
    "except ValueError as Ve: #ValueError\n",
    "  print(f'Error: {Ve} --> Divisior should be integer')\n",
    "except NameError as Ne:\n",
    "  print(f'Error: {Ne} --> Undefined Identifiers called')\n",
    "except Exception as e : #Exception\n",
    "  print(f'Error: {e}')"
   ]
  },
  {
   "cell_type": "code",
   "execution_count": 9,
   "metadata": {
    "colab": {
     "base_uri": "https://localhost:8080/",
     "height": 397
    },
    "id": "Hw17ujRMh9KB",
    "outputId": "66e6f31b-ff2b-4d8d-a0fc-0a40e84b1163"
   },
   "outputs": [
    {
     "ename": "KeyboardInterrupt",
     "evalue": "Interrupted by user",
     "output_type": "error",
     "traceback": [
      "\u001b[0;31m---------------------------------------------------------------------------\u001b[0m",
      "\u001b[0;31mKeyboardInterrupt\u001b[0m                         Traceback (most recent call last)",
      "Input \u001b[0;32mIn [9]\u001b[0m, in \u001b[0;36m<cell line: 2>\u001b[0;34m()\u001b[0m\n\u001b[1;32m      1\u001b[0m \u001b[38;5;66;03m# KeyboardInterrupt\u001b[39;00m\n\u001b[1;32m      2\u001b[0m \u001b[38;5;28;01mtry\u001b[39;00m:\n\u001b[0;32m----> 3\u001b[0m   dividend\u001b[38;5;241m=\u001b[39m\u001b[38;5;28mint\u001b[39m(\u001b[38;5;28;43minput\u001b[39;49m\u001b[43m(\u001b[49m\u001b[38;5;124;43m'\u001b[39;49m\u001b[38;5;124;43mEnter your dividend : \u001b[39;49m\u001b[38;5;124;43m'\u001b[39;49m\u001b[43m)\u001b[49m)\n\u001b[1;32m      4\u001b[0m   divisor\u001b[38;5;241m=\u001b[39m\u001b[38;5;28mint\u001b[39m(\u001b[38;5;28minput\u001b[39m(\u001b[38;5;124mf\u001b[39m\u001b[38;5;124m'\u001b[39m\u001b[38;5;124mEnter Divisor for dividend \u001b[39m\u001b[38;5;132;01m{\u001b[39;00mdividend\u001b[38;5;132;01m}\u001b[39;00m\u001b[38;5;124m: \u001b[39m\u001b[38;5;124m'\u001b[39m))\n\u001b[1;32m      5\u001b[0m   result\u001b[38;5;241m=\u001b[39mdividend\u001b[38;5;241m/\u001b[39mdivisor\n",
      "File \u001b[0;32m/opt/anaconda3/lib/python3.9/site-packages/ipykernel/kernelbase.py:1075\u001b[0m, in \u001b[0;36mKernel.raw_input\u001b[0;34m(self, prompt)\u001b[0m\n\u001b[1;32m   1071\u001b[0m \u001b[38;5;28;01mif\u001b[39;00m \u001b[38;5;129;01mnot\u001b[39;00m \u001b[38;5;28mself\u001b[39m\u001b[38;5;241m.\u001b[39m_allow_stdin:\n\u001b[1;32m   1072\u001b[0m     \u001b[38;5;28;01mraise\u001b[39;00m StdinNotImplementedError(\n\u001b[1;32m   1073\u001b[0m         \u001b[38;5;124m\"\u001b[39m\u001b[38;5;124mraw_input was called, but this frontend does not support input requests.\u001b[39m\u001b[38;5;124m\"\u001b[39m\n\u001b[1;32m   1074\u001b[0m     )\n\u001b[0;32m-> 1075\u001b[0m \u001b[38;5;28;01mreturn\u001b[39;00m \u001b[38;5;28;43mself\u001b[39;49m\u001b[38;5;241;43m.\u001b[39;49m\u001b[43m_input_request\u001b[49m\u001b[43m(\u001b[49m\n\u001b[1;32m   1076\u001b[0m \u001b[43m    \u001b[49m\u001b[38;5;28;43mstr\u001b[39;49m\u001b[43m(\u001b[49m\u001b[43mprompt\u001b[49m\u001b[43m)\u001b[49m\u001b[43m,\u001b[49m\n\u001b[1;32m   1077\u001b[0m \u001b[43m    \u001b[49m\u001b[38;5;28;43mself\u001b[39;49m\u001b[38;5;241;43m.\u001b[39;49m\u001b[43m_parent_ident\u001b[49m\u001b[43m[\u001b[49m\u001b[38;5;124;43m\"\u001b[39;49m\u001b[38;5;124;43mshell\u001b[39;49m\u001b[38;5;124;43m\"\u001b[39;49m\u001b[43m]\u001b[49m\u001b[43m,\u001b[49m\n\u001b[1;32m   1078\u001b[0m \u001b[43m    \u001b[49m\u001b[38;5;28;43mself\u001b[39;49m\u001b[38;5;241;43m.\u001b[39;49m\u001b[43mget_parent\u001b[49m\u001b[43m(\u001b[49m\u001b[38;5;124;43m\"\u001b[39;49m\u001b[38;5;124;43mshell\u001b[39;49m\u001b[38;5;124;43m\"\u001b[39;49m\u001b[43m)\u001b[49m\u001b[43m,\u001b[49m\n\u001b[1;32m   1079\u001b[0m \u001b[43m    \u001b[49m\u001b[43mpassword\u001b[49m\u001b[38;5;241;43m=\u001b[39;49m\u001b[38;5;28;43;01mFalse\u001b[39;49;00m\u001b[43m,\u001b[49m\n\u001b[1;32m   1080\u001b[0m \u001b[43m\u001b[49m\u001b[43m)\u001b[49m\n",
      "File \u001b[0;32m/opt/anaconda3/lib/python3.9/site-packages/ipykernel/kernelbase.py:1120\u001b[0m, in \u001b[0;36mKernel._input_request\u001b[0;34m(self, prompt, ident, parent, password)\u001b[0m\n\u001b[1;32m   1117\u001b[0m             \u001b[38;5;28;01mbreak\u001b[39;00m\n\u001b[1;32m   1118\u001b[0m \u001b[38;5;28;01mexcept\u001b[39;00m \u001b[38;5;167;01mKeyboardInterrupt\u001b[39;00m:\n\u001b[1;32m   1119\u001b[0m     \u001b[38;5;66;03m# re-raise KeyboardInterrupt, to truncate traceback\u001b[39;00m\n\u001b[0;32m-> 1120\u001b[0m     \u001b[38;5;28;01mraise\u001b[39;00m \u001b[38;5;167;01mKeyboardInterrupt\u001b[39;00m(\u001b[38;5;124m\"\u001b[39m\u001b[38;5;124mInterrupted by user\u001b[39m\u001b[38;5;124m\"\u001b[39m) \u001b[38;5;28;01mfrom\u001b[39;00m \u001b[38;5;28mNone\u001b[39m\n\u001b[1;32m   1121\u001b[0m \u001b[38;5;28;01mexcept\u001b[39;00m \u001b[38;5;167;01mException\u001b[39;00m:\n\u001b[1;32m   1122\u001b[0m     \u001b[38;5;28mself\u001b[39m\u001b[38;5;241m.\u001b[39mlog\u001b[38;5;241m.\u001b[39mwarning(\u001b[38;5;124m\"\u001b[39m\u001b[38;5;124mInvalid Message:\u001b[39m\u001b[38;5;124m\"\u001b[39m, exc_info\u001b[38;5;241m=\u001b[39m\u001b[38;5;28;01mTrue\u001b[39;00m)\n",
      "\u001b[0;31mKeyboardInterrupt\u001b[0m: Interrupted by user"
     ]
    }
   ],
   "source": [
    "# KeyboardInterrupt\n",
    "try:\n",
    "  dividend=int(input('Enter your dividend : '))\n",
    "  divisor=int(input(f'Enter Divisor for dividend {dividend}: '))\n",
    "  result=dividend/divisor\n",
    "  print(result)\n",
    "except ZeroDivisionError as Ze: #ZeroDivisionError\n",
    "  print(f'Error : {Ze} --> ZeDivisior should not be zero')\n",
    "except ValueError as Ve: #ValueError\n",
    "  print(f'Error: {Ve} --> Divisior should be integer')\n",
    "except NameError as Ne:\n",
    "  print(f'Error: {Ne} --> Undefined Identifiers called')\n",
    "except Exception as e : #Exception\n",
    "  print(f'Error: {e}')"
   ]
  },
  {
   "cell_type": "code",
   "execution_count": 10,
   "metadata": {
    "id": "UTLL2uZniOCP"
   },
   "outputs": [],
   "source": [
    "# pass statement in the except\n",
    "try:\n",
    "  dividend=int(input('Enter your dividend : '))\n",
    "  divisor=int(input(f'Enter Divisor for dividend {dividend}: '))\n",
    "  result=dividend/divisor\n",
    "  print(result)\n",
    "except ZeroDivisionError as Ze: #ZeroDivisionError\n",
    "  print(f'Error : {Ze} --> ZeDivisior should not be zero')\n",
    "except ValueError as Ve: #ValueError\n",
    "  print(f'Error: {Ve} --> Divisior should be integer')\n",
    "except NameError as Ne:\n",
    "  print(f'Error: {Ne} --> Undefined Identifiers called')\n",
    "except Exception as e : #Exception\n",
    "  print(f'Error: {e}')\n",
    "except KeyboardInterrupt:\n",
    "  pass"
   ]
  },
  {
   "cell_type": "code",
   "execution_count": 11,
   "metadata": {
    "colab": {
     "base_uri": "https://localhost:8080/"
    },
    "id": "_GFAjg-GCpa2",
    "outputId": "d8667ec1-a324-4d46-ca2e-35607125109a"
   },
   "outputs": [
    {
     "name": "stdout",
     "output_type": "stream",
     "text": [
      "Enter your dividend : 350\n",
      "Enter Divisor for dividend 350: 0\n",
      "Error: division by zero --> Divisior should be non-zero number only\n"
     ]
    }
   ],
   "source": [
    "# Multi Exceptions In a single Block\n",
    "try:\n",
    "  dividend=int(input('Enter your dividend : '))\n",
    "  divisor=int(input(f'Enter Divisor for dividend {dividend}: '))\n",
    "  result=dividend/divisor\n",
    "  print(result)\n",
    "except (ZeroDivisionError,ValueError) as errors :\n",
    "  print(f'Error: {errors} --> Divisior should be non-zero number only')\n",
    "except NameError as Ne:\n",
    "  print(f'Error: {Ne} --> Undefined Identifiers called')\n",
    "except Exception as e:\n",
    "  print(f'Error: {e}')"
   ]
  },
  {
   "cell_type": "code",
   "execution_count": 12,
   "metadata": {
    "colab": {
     "base_uri": "https://localhost:8080/"
    },
    "id": "OhPSO7oTjM3o",
    "outputId": "4e3e0d1d-0f9c-406c-ec8f-d2493acf22e6"
   },
   "outputs": [
    {
     "name": "stdout",
     "output_type": "stream",
     "text": [
      "Enter your dividend : 350\n",
      "Enter Divisor for dividend 350: 3+4j\n",
      "Error: invalid literal for int() with base 10: '3+4j' --> Divisior should be non-zero number only\n"
     ]
    }
   ],
   "source": [
    "# Multi Exceptions In a single Block\n",
    "try:\n",
    "  dividend=int(input('Enter your dividend : '))\n",
    "  divisor=int(input(f'Enter Divisor for dividend {dividend}: '))\n",
    "  result=dividend/divisor\n",
    "  print(result)\n",
    "except (ZeroDivisionError,ValueError) as errors :\n",
    "  print(f'Error: {errors} --> Divisior should be non-zero number only')\n",
    "except NameError as Ne:\n",
    "  print(f'Error: {Ne} --> Undefined Identifiers called')\n",
    "except Exception as e:\n",
    "  print(f'Error: {e}')"
   ]
  },
  {
   "cell_type": "code",
   "execution_count": 13,
   "metadata": {
    "colab": {
     "base_uri": "https://localhost:8080/"
    },
    "id": "jgfTqkn7BveG",
    "outputId": "77a0df5d-b0c3-47de-a743-67b22943ddab"
   },
   "outputs": [
    {
     "name": "stdout",
     "output_type": "stream",
     "text": [
      "Enter your dividend : 350\n",
      "Enter Divisor for dividend 350: 5\n",
      "70.0\n",
      "program run successfully without any error\n"
     ]
    }
   ],
   "source": [
    "# else : If there is no exception then else block execute\n",
    "try:\n",
    "  dividend=int(input('Enter your dividend : '))\n",
    "  divisor=int(input(f'Enter Divisor for dividend {dividend}: '))\n",
    "  result=dividend/divisor\n",
    "  print(result)\n",
    "except ZeroDivisionError :\n",
    "  print('Divisior should not be zero')\n",
    "except ValueError:\n",
    "  print('Divisior should be integer')\n",
    "except NameError:\n",
    "  print('Undefined identifiers called')\n",
    "except Exception :\n",
    "  print('Something went wrong')\n",
    "else:\n",
    "  print('program run successfully without any error')"
   ]
  },
  {
   "cell_type": "code",
   "execution_count": 14,
   "metadata": {
    "colab": {
     "base_uri": "https://localhost:8080/"
    },
    "id": "Fdc1qQJXCR8_",
    "outputId": "0c6d36f9-c0e2-4c69-cac5-ff27a802faaf"
   },
   "outputs": [
    {
     "name": "stdout",
     "output_type": "stream",
     "text": [
      "Enter your dividend : 350\n",
      "Enter Divisor for dividend 350: 5\n",
      "70.0\n",
      "program run successfully without any error\n",
      "Thank you for testing\n"
     ]
    }
   ],
   "source": [
    "# finally : optional block must be executed under all circumstances\n",
    "try:\n",
    "  dividend=int(input('Enter your dividend : '))\n",
    "  divisor=int(input(f'Enter Divisor for dividend {dividend}: '))\n",
    "  result=dividend/divisor\n",
    "  print(result)\n",
    "except ZeroDivisionError :\n",
    "  print('Divisior should not be zero')\n",
    "except ValueError:\n",
    "  print('Divisior should be integer')\n",
    "except NameError:\n",
    "  print('Undefined identifiers called')\n",
    "except Exception :\n",
    "  print('Something went wrong')\n",
    "else:\n",
    "  print('program run successfully without any error')\n",
    "finally:\n",
    "  print('Thank you for testing')"
   ]
  },
  {
   "cell_type": "code",
   "execution_count": 15,
   "metadata": {},
   "outputs": [
    {
     "name": "stdout",
     "output_type": "stream",
     "text": [
      "Enter your dividend : 350\n",
      "Enter Divisor for dividend 350: 'S'\n",
      "Divisior should be integer\n",
      "Thank you for testing\n"
     ]
    }
   ],
   "source": [
    "try:\n",
    "  dividend=int(input('Enter your dividend : '))\n",
    "  divisor=int(input(f'Enter Divisor for dividend {dividend}: '))\n",
    "  result=dividend/divisor\n",
    "  print(result)\n",
    "except ZeroDivisionError :\n",
    "  print('Divisior should not be zero')\n",
    "except ValueError:\n",
    "  print('Divisior should be integer')\n",
    "except NameError:\n",
    "  print('Undefined identifiers called')\n",
    "except Exception :\n",
    "  print('Something went wrong')\n",
    "else:\n",
    "  print('program run successfully without any error')\n",
    "finally:\n",
    "  print('Thank you for testing')"
   ]
  },
  {
   "cell_type": "code",
   "execution_count": 16,
   "metadata": {
    "id": "_3GOg2fCmce4"
   },
   "outputs": [],
   "source": [
    "# raise : Deliberately raise an exception using raise keyword\n",
    "def numengine(start,stop,step):\n",
    "  while True:\n",
    "    try:\n",
    "      if start==stop:\n",
    "        raise StopIteration('StopIteration raise')\n",
    "    except StopIteration as SI:\n",
    "        print(SI)\n",
    "        break\n",
    "    else:\n",
    "      yield start\n",
    "      start+=step"
   ]
  },
  {
   "cell_type": "code",
   "execution_count": 17,
   "metadata": {
    "colab": {
     "base_uri": "https://localhost:8080/"
    },
    "id": "6DJgsG1mnJBP",
    "outputId": "eab6f34b-c2aa-44e1-deaa-327586bc2975"
   },
   "outputs": [
    {
     "name": "stdout",
     "output_type": "stream",
     "text": [
      "2\n",
      "4\n",
      "6\n",
      "8\n",
      "10\n",
      "12\n",
      "14\n",
      "16\n",
      "18\n",
      "20\n",
      "22\n",
      "StopIteration raise\n"
     ]
    }
   ],
   "source": [
    "numG=numengine(2,24,2)\n",
    "for e in numG:\n",
    "  print(e)"
   ]
  },
  {
   "cell_type": "code",
   "execution_count": 18,
   "metadata": {
    "colab": {
     "base_uri": "https://localhost:8080/"
    },
    "id": "oeQYM7kPXMaf",
    "outputId": "5b84a33a-ca14-4a7d-f32a-eb9275f0d24f"
   },
   "outputs": [
    {
     "name": "stderr",
     "output_type": "stream",
     "text": [
      "ERROR:root:File not found: data.txt\n"
     ]
    },
    {
     "name": "stdout",
     "output_type": "stream",
     "text": [
      "Error: [Errno 2] No such file or directory: 'data.txt'\n"
     ]
    }
   ],
   "source": [
    "# re-raise\n",
    "import logging\n",
    "\n",
    "def process_data(filename):\n",
    "    try:\n",
    "        with open(filename, 'r') as file:\n",
    "            data = file.read()\n",
    "    except FileNotFoundError as e:\n",
    "        logging.error(f\"File not found: {filename}\")\n",
    "        raise  # Re-raise the same exception\n",
    "\n",
    "try:\n",
    "    process_data('data.txt')\n",
    "except FileNotFoundError as e:\n",
    "    print(f\"Error: {e}\")\n"
   ]
  },
  {
   "cell_type": "code",
   "execution_count": null,
   "metadata": {
    "id": "Wf8xV_TDYMyN"
   },
   "outputs": [],
   "source": [
    "# let me explain this --\n",
    "'''\n",
    "The process_data function tries to open and read a file specified by the filename.\n",
    "If the file is not found, a FileNotFoundError exception is caught within the function's except block.\n",
    "Inside the except block, a log message is created using the logging module to record the error.\n",
    "The raise statement without any arguments re-raises the same caught exception,\n",
    "allowing it to propagate up the call stack.\n",
    "The higher-level code outside the process_data function catches the re-raised exception \n",
    "and prints an error message.\n",
    "'''"
   ]
  },
  {
   "cell_type": "code",
   "execution_count": 19,
   "metadata": {
    "colab": {
     "base_uri": "https://localhost:8080/"
    },
    "id": "YWNlG3qPao-r",
    "outputId": "4feda1b8-4af3-4a82-a24e-5f4517a394cf"
   },
   "outputs": [
    {
     "name": "stdout",
     "output_type": "stream",
     "text": [
      "Caught ValueError: Error fetching data from https://example.com/nonexistent\n",
      "Original exception: 404 Client Error: Not Found for url: https://example.com/nonexistent\n"
     ]
    }
   ],
   "source": [
    "# Chaining exceptions is particularly useful when you want to raise higher-level\n",
    "# exceptions that provide more details while still preserving the lower-level error information.\n",
    "import requests\n",
    "\n",
    "def fetch_data(url):\n",
    "    try:\n",
    "        response = requests.get(url)\n",
    "        response.raise_for_status()  # Raises an HTTPError for unsuccessful responses\n",
    "        return response.text\n",
    "    except requests.exceptions.RequestException as e:\n",
    "        raise ValueError(f\"Error fetching data from {url}\") from e\n",
    "\n",
    "try:\n",
    "    data = fetch_data('https://example.com/nonexistent')\n",
    "    print(\"Fetched data:\", data)\n",
    "except ValueError as ve:\n",
    "    print(f\"Caught ValueError: {ve}\")\n",
    "    print(f\"Original exception: {ve.__cause__}\")"
   ]
  },
  {
   "cell_type": "code",
   "execution_count": null,
   "metadata": {
    "id": "HMsqeZWob1aR"
   },
   "outputs": [],
   "source": [
    "# Let me Explain this\n",
    "'''\n",
    "Here, the new ValueError exception is raised, with the original RequestException\n",
    "captured as its cause. This chaining of exceptions allows you to provide\n",
    "a more informative error message while preserving the context of the original error.\n",
    "'''"
   ]
  },
  {
   "cell_type": "code",
   "execution_count": 20,
   "metadata": {
    "colab": {
     "base_uri": "https://localhost:8080/",
     "height": 284
    },
    "id": "o6-tp_X_LmBD",
    "outputId": "4c6030b1-804b-4420-e454-f21c8f50d0a7"
   },
   "outputs": [
    {
     "name": "stdout",
     "output_type": "stream",
     "text": [
      "Enter your dividend : 350\n",
      "Enter Divisor for dividend 350: 0\n"
     ]
    },
    {
     "ename": "AssertionError",
     "evalue": "",
     "output_type": "error",
     "traceback": [
      "\u001b[0;31m---------------------------------------------------------------------------\u001b[0m",
      "\u001b[0;31mAssertionError\u001b[0m                            Traceback (most recent call last)",
      "Input \u001b[0;32mIn [20]\u001b[0m, in \u001b[0;36m<cell line: 4>\u001b[0;34m()\u001b[0m\n\u001b[1;32m      2\u001b[0m dividend\u001b[38;5;241m=\u001b[39m\u001b[38;5;28mint\u001b[39m(\u001b[38;5;28minput\u001b[39m(\u001b[38;5;124m'\u001b[39m\u001b[38;5;124mEnter your dividend : \u001b[39m\u001b[38;5;124m'\u001b[39m))\n\u001b[1;32m      3\u001b[0m divisor\u001b[38;5;241m=\u001b[39m\u001b[38;5;28mint\u001b[39m(\u001b[38;5;28minput\u001b[39m(\u001b[38;5;124mf\u001b[39m\u001b[38;5;124m'\u001b[39m\u001b[38;5;124mEnter Divisor for dividend \u001b[39m\u001b[38;5;132;01m{\u001b[39;00mdividend\u001b[38;5;132;01m}\u001b[39;00m\u001b[38;5;124m: \u001b[39m\u001b[38;5;124m'\u001b[39m))\n\u001b[0;32m----> 4\u001b[0m \u001b[38;5;28;01massert\u001b[39;00m divisor\u001b[38;5;241m!=\u001b[39m\u001b[38;5;241m0\u001b[39m\n\u001b[1;32m      5\u001b[0m result\u001b[38;5;241m=\u001b[39mdividend\u001b[38;5;241m/\u001b[39mdivisor\n\u001b[1;32m      6\u001b[0m \u001b[38;5;28mprint\u001b[39m(result)\n",
      "\u001b[0;31mAssertionError\u001b[0m: "
     ]
    }
   ],
   "source": [
    "# assert statement should be used for trapping user-defined constraints\n",
    "\n",
    "# using assert statement, an expression is tested, and if the result of the expression is False\n",
    "# then an exception is raised, it is intended for debugging statements.\n",
    "\n",
    "dividend=int(input('Enter your dividend : '))\n",
    "divisor=int(input(f'Enter Divisor for dividend {dividend}: '))\n",
    "assert divisor!=0\n",
    "result=dividend/divisor\n",
    "print(result)"
   ]
  },
  {
   "cell_type": "code",
   "execution_count": 21,
   "metadata": {
    "colab": {
     "base_uri": "https://localhost:8080/",
     "height": 284
    },
    "id": "ISSErMZNMxiY",
    "outputId": "ba0bb852-5833-4f7c-af7f-28b7d9e23068"
   },
   "outputs": [
    {
     "name": "stdout",
     "output_type": "stream",
     "text": [
      "Enter your dividend : 350\n",
      "Enter Divisor for dividend 350: 0\n"
     ]
    },
    {
     "ename": "AssertionError",
     "evalue": "Divisor should be non_zero",
     "output_type": "error",
     "traceback": [
      "\u001b[0;31m---------------------------------------------------------------------------\u001b[0m",
      "\u001b[0;31mAssertionError\u001b[0m                            Traceback (most recent call last)",
      "Input \u001b[0;32mIn [21]\u001b[0m, in \u001b[0;36m<cell line: 5>\u001b[0;34m()\u001b[0m\n\u001b[1;32m      3\u001b[0m dividend\u001b[38;5;241m=\u001b[39m\u001b[38;5;28mint\u001b[39m(\u001b[38;5;28minput\u001b[39m(\u001b[38;5;124m'\u001b[39m\u001b[38;5;124mEnter your dividend : \u001b[39m\u001b[38;5;124m'\u001b[39m))\n\u001b[1;32m      4\u001b[0m divisor\u001b[38;5;241m=\u001b[39m\u001b[38;5;28mint\u001b[39m(\u001b[38;5;28minput\u001b[39m(\u001b[38;5;124mf\u001b[39m\u001b[38;5;124m'\u001b[39m\u001b[38;5;124mEnter Divisor for dividend \u001b[39m\u001b[38;5;132;01m{\u001b[39;00mdividend\u001b[38;5;132;01m}\u001b[39;00m\u001b[38;5;124m: \u001b[39m\u001b[38;5;124m'\u001b[39m))\n\u001b[0;32m----> 5\u001b[0m \u001b[38;5;28;01massert\u001b[39;00m divisor\u001b[38;5;241m!=\u001b[39m\u001b[38;5;241m0\u001b[39m, \u001b[38;5;124m'\u001b[39m\u001b[38;5;124mDivisor should be non_zero\u001b[39m\u001b[38;5;124m'\u001b[39m\n\u001b[1;32m      6\u001b[0m result\u001b[38;5;241m=\u001b[39mdividend\u001b[38;5;241m/\u001b[39mdivisor\n\u001b[1;32m      7\u001b[0m \u001b[38;5;28mprint\u001b[39m(result)\n",
      "\u001b[0;31mAssertionError\u001b[0m: Divisor should be non_zero"
     ]
    }
   ],
   "source": [
    "dividend=int(input('Enter your dividend : '))\n",
    "divisor=int(input(f'Enter Divisor for dividend {dividend}: '))\n",
    "assert divisor!=0, 'Divisor should be non_zero'\n",
    "result=dividend/divisor\n",
    "print(result)"
   ]
  },
  {
   "cell_type": "code",
   "execution_count": 22,
   "metadata": {
    "colab": {
     "base_uri": "https://localhost:8080/"
    },
    "id": "JjX8VGxVMb9r",
    "outputId": "c5b8a870-d35f-424b-b909-4a89222d7ccb"
   },
   "outputs": [
    {
     "name": "stdout",
     "output_type": "stream",
     "text": [
      "Enter your dividend : 350\n",
      "Enter Divisor for dividend 350: 0\n",
      "Divisor should be non_zero\n"
     ]
    }
   ],
   "source": [
    "try:\n",
    "  dividend=int(input(f'Enter your dividend : '))\n",
    "  divisior=int(input(f'Enter Divisor for dividend {dividend}: '))\n",
    "  assert divisior!=0\n",
    "  result=dividend/divisior\n",
    "  print(result)\n",
    "except AssertionError:\n",
    "  print('Divisor should be non_zero')"
   ]
  },
  {
   "cell_type": "code",
   "execution_count": 11,
   "metadata": {
    "colab": {
     "base_uri": "https://localhost:8080/"
    },
    "id": "oziQnvZCfysC",
    "outputId": "375ebbf7-53bf-4152-dead-7304e630b11e"
   },
   "outputs": [
    {
     "name": "stdout",
     "output_type": "stream",
     "text": [
      "Enter your dividend : 350\n",
      "Enter Divisor for dividend 350: 0\n",
      "Divisor should be non_zero\n"
     ]
    }
   ],
   "source": [
    "try:\n",
    "  dividend=int(input(f'Enter your dividend : '))\n",
    "  divisior=int(input(f'Enter Divisor for dividend {dividend}: '))\n",
    "  assert divisior!=0,'Divisor should be non_zero'\n",
    "  result=dividend/divisior\n",
    "  print(result)\n",
    "except AssertionError as Ae:\n",
    "  print(Ae)"
   ]
  },
  {
   "cell_type": "code",
   "execution_count": 23,
   "metadata": {
    "colab": {
     "base_uri": "https://localhost:8080/"
    },
    "id": "1vOlrwRTOL6f",
    "outputId": "7f72b823-b0a0-4c29-87b4-981781ff97f5"
   },
   "outputs": [
    {
     "name": "stdout",
     "output_type": "stream",
     "text": [
      "Enter your dividend : 350\n",
      "Enter Divisor for dividend 350: 0\n",
      "Divisor should be non-zero\n"
     ]
    }
   ],
   "source": [
    "# raise-if similar to assert\n",
    "try:\n",
    "  dividend=int(input(f'Enter your dividend : '))\n",
    "  divisor=int(input(f'Enter Divisor for dividend {dividend}: '))\n",
    "  if divisor==0: raise ValueError\n",
    "  result=dividend/divisor\n",
    "  print(result)\n",
    "except:\n",
    "  print('Divisor should be non-zero')"
   ]
  },
  {
   "cell_type": "code",
   "execution_count": 24,
   "metadata": {
    "colab": {
     "base_uri": "https://localhost:8080/"
    },
    "id": "gssYTk1XgCYt",
    "outputId": "244ab961-a7d8-45fa-bc3a-90d58de14d2e"
   },
   "outputs": [
    {
     "name": "stdout",
     "output_type": "stream",
     "text": [
      "Enter your dividend : 350\n",
      "Enter Divisor for dividend 350: 0\n",
      "Divisor should be non-zero\n"
     ]
    }
   ],
   "source": [
    "try:\n",
    "  dividend=int(input(f'Enter your dividend : '))\n",
    "  divisor=int(input(f'Enter Divisor for dividend {dividend}: '))\n",
    "  if divisor==0: raise ValueError('Divisor should be non-zero')\n",
    "  result=dividend/divisor\n",
    "  print(result)\n",
    "except ValueError as Ve :\n",
    "  print(Ve)"
   ]
  },
  {
   "cell_type": "code",
   "execution_count": 25,
   "metadata": {
    "colab": {
     "base_uri": "https://localhost:8080/"
    },
    "id": "wdmsntuhINXJ",
    "outputId": "f8308616-64b5-4bfb-f17b-fa74ea07ef26"
   },
   "outputs": [
    {
     "name": "stdout",
     "output_type": "stream",
     "text": [
      "Enter your dividend : 350\n",
      "Enter Divisor for dividend 350: -9\n",
      "Custom Error: Data value cannot be negative.\n"
     ]
    }
   ],
   "source": [
    "# Userdefined Error \n",
    "class CustomError(Exception):\n",
    "    def __init__(self, message):\n",
    "        self.message = message\n",
    "        super().__init__(self.message)\n",
    "\n",
    "def process_code(dividend,divisor):\n",
    "    if divisor < 0:\n",
    "        raise CustomError(\"Data value cannot be negative.\")\n",
    "    result = dividend/ divisor\n",
    "    return result\n",
    "\n",
    "try:\n",
    "    dividend=int(input('Enter your dividend : '))\n",
    "    divisor=int(input(f'Enter Divisor for dividend {dividend}: '))\n",
    "    result = process_code(dividend,divisor)\n",
    "    print(\"Result:\", result)\n",
    "except CustomError as ce: # Here 'as' allow us to name the variable within an except\n",
    "    print(f\"Custom Error: {ce}\")\n",
    "except Exception as e:\n",
    "    print(f\"Error: {e}\")"
   ]
  },
  {
   "cell_type": "code",
   "execution_count": 26,
   "metadata": {
    "colab": {
     "base_uri": "https://localhost:8080/"
    },
    "id": "C-ehuSoPmE9y",
    "outputId": "531cc982-d1ce-46bc-8315-16bac8370612"
   },
   "outputs": [
    {
     "name": "stdout",
     "output_type": "stream",
     "text": [
      "Enter your dividend : 350\n",
      "Enter Divisor for dividend 350: 0\n",
      "Error: division by zero\n"
     ]
    }
   ],
   "source": [
    "def process_code(dividend,divisor):\n",
    "    if divisor < 0:\n",
    "        raise CustomError(\"Data value cannot be negative.\")\n",
    "    result = dividend/ divisor\n",
    "    return result\n",
    "\n",
    "try:\n",
    "    dividend=int(input('Enter your dividend : '))\n",
    "    divisor=int(input(f'Enter Divisor for dividend {dividend}: '))\n",
    "    result = process_code(dividend,divisor)\n",
    "    print(\"Result:\", result)\n",
    "except CustomError as ce: # Here 'as' allow us to name the variable within an except\n",
    "    print(f\"Custom Error: {ce}\")\n",
    "except Exception as e:\n",
    "    print(f\"Error: {e}\")"
   ]
  },
  {
   "cell_type": "code",
   "execution_count": 29,
   "metadata": {
    "colab": {
     "base_uri": "https://localhost:8080/"
    },
    "id": "LKfxxuJybUbP",
    "outputId": "b9166a83-d434-4b3d-c5ec-b6f3a9f81e72"
   },
   "outputs": [
    {
     "name": "stdout",
     "output_type": "stream",
     "text": [
      "<class 'Exception'>\n",
      "('x', 'y')\n",
      "('x', 'y')\n",
      "x y\n"
     ]
    }
   ],
   "source": [
    "try:\n",
    "    raise Exception('x', 'y')\n",
    "except Exception as inst:\n",
    "    print(type(inst))\n",
    "    print(inst.args)\n",
    "    print(inst)\n",
    "    a, b = inst.args\n",
    "    print(a,b)\n"
   ]
  },
  {
   "cell_type": "code",
   "execution_count": null,
   "metadata": {},
   "outputs": [],
   "source": [
    " '''\n",
    "Here,an exception of the type 'Exception' is raised with two arguments:'x' and 'y'.\n",
    "When caught, the exception instance is stored in the variable inst,\n",
    "and its type, arguments,and string representation are printed.\n",
    "'''"
   ]
  },
  {
   "cell_type": "code",
   "execution_count": null,
   "metadata": {
    "id": "w2__QtlCgLuo"
   },
   "outputs": [],
   "source": [
    "# python version >=3.0\n",
    "BaseException\n",
    "+-- SystemExit\n",
    "+-- KeyboardInterrupt\n",
    "+-- GeneratorExit\n",
    "+-- Exception\n",
    "+-- StopIteration\n",
    "+-- StopAsyncIteration\n",
    "+-- ArithmeticError\n",
    "| +-- FloatingPointError\n",
    "| +-- OverflowError\n",
    "| +-- ZeroDivisionError\n",
    "+-- AssertionError\n",
    "+-- AttributeError\n",
    "+-- BufferError\n",
    "+-- EOFError\n",
    "+-- ImportError\n",
    "+-- LookupError\n",
    "| +-- IndexError\n",
    "| +-- KeyError\n",
    "+-- MemoryError\n",
    "+-- NameError\n",
    "| +-- UnboundLocalError\n",
    "+-- OSError\n",
    "| +-- BlockingIOError\n",
    "| +-- ChildProcessError\n",
    "| +-- ConnectionError\n",
    "| | +-- BrokenPipeError\n",
    "| | +-- ConnectionAbortedError\n",
    "| | +-- ConnectionRefusedError\n",
    "| | +-- ConnectionResetError\n",
    "| +-- FileExistsError\n",
    "| +-- FileNotFoundError\n",
    "| +-- InterruptedError\n",
    "| +-- IsADirectoryError\n",
    "| +-- NotADirectoryError\n",
    "| +-- PermissionError\n",
    "| +-- ProcessLookupError\n",
    "| +-- TimeoutError\n",
    "+-- ReferenceError\n",
    "+-- RuntimeError\n",
    "| +-- NotImplementedError\n",
    "| +-- RecursionError\n",
    "+-- SyntaxError\n",
    "| +-- IndentationError\n",
    "| +-- TabError\n",
    "+-- SystemError\n",
    "+-- TypeError\n",
    "+-- ValueError\n",
    "| +-- UnicodeError\n",
    "| +-- UnicodeDecodeError\n",
    "| +-- UnicodeEncodeError\n",
    "| +-- UnicodeTranslateError\n",
    "+-- Warning\n",
    "+-- DeprecationWarning\n",
    "+-- PendingDeprecationWarning\n",
    "+-- RuntimeWarning\n",
    "+-- SyntaxWarning\n",
    "+-- UserWarning\n",
    "+-- FutureWarning\n",
    "+-- ImportWarning\n",
    "+-- UnicodeWarning\n",
    "+-- BytesWarning\n",
    "+-- ResourceWarning"
   ]
  },
  {
   "cell_type": "code",
   "execution_count": null,
   "metadata": {
    "id": "1ehFss1GQQ95"
   },
   "outputs": [],
   "source": [
    "# created By Sanjeeet\n",
    "!! Thank You !!"
   ]
  }
 ],
 "metadata": {
  "colab": {
   "provenance": []
  },
  "kernelspec": {
   "display_name": "Python 3 (ipykernel)",
   "language": "python",
   "name": "python3"
  },
  "language_info": {
   "codemirror_mode": {
    "name": "ipython",
    "version": 3
   },
   "file_extension": ".py",
   "mimetype": "text/x-python",
   "name": "python",
   "nbconvert_exporter": "python",
   "pygments_lexer": "ipython3",
   "version": "3.9.12"
  },
  "varInspector": {
   "cols": {
    "lenName": 16,
    "lenType": 16,
    "lenVar": 40
   },
   "kernels_config": {
    "python": {
     "delete_cmd_postfix": "",
     "delete_cmd_prefix": "del ",
     "library": "var_list.py",
     "varRefreshCmd": "print(var_dic_list())"
    },
    "r": {
     "delete_cmd_postfix": ") ",
     "delete_cmd_prefix": "rm(",
     "library": "var_list.r",
     "varRefreshCmd": "cat(var_dic_list()) "
    }
   },
   "types_to_exclude": [
    "module",
    "function",
    "builtin_function_or_method",
    "instance",
    "_Feature"
   ],
   "window_display": false
  }
 },
 "nbformat": 4,
 "nbformat_minor": 1
}
