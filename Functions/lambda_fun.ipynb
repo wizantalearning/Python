{
 "cells": [
  {
   "cell_type": "code",
   "execution_count": null,
   "metadata": {
    "id": "fo6mcWVI0ovS"
   },
   "outputs": [],
   "source": [
    "# lambda or anonymous function\n",
    "# syntax\n",
    "(lambda parameters: expression)(arguments)\n",
    "\n",
    "var=lambda parameters: expression\n",
    "var(arguments)"
   ]
  },
  {
   "cell_type": "code",
   "execution_count": null,
   "metadata": {
    "id": "7zOHhgpjBd1o"
   },
   "outputs": [],
   "source": [
    "'''\n",
    "Key Points : -\n",
    "1. lambda functions have no name.\n",
    "2. lambda functions can take any number of arguments.\n",
    "3. lambda functions can return just one value in the form of an expression.\n",
    "4. lambda function definition does not have an explicit return statement but\n",
    "   it always contain expression which is returned.\n",
    "5. They are a one-line version of a function and hence cannot contain multiple expresson.\n",
    "6. They cannot access variable other than those in their parameter list.\n",
    "7. lambda functions cannot even access global variables.\n",
    "8. we can store lambda functions in variables, pass as arguments in other function or as a return of other function.\n",
    "'''\n"
   ]
  },
  {
   "cell_type": "code",
   "execution_count": 1,
   "metadata": {
    "colab": {
     "base_uri": "https://localhost:8080/"
    },
    "id": "w0oC3Itu7IVQ",
    "outputId": "5a368300-92f4-45e2-ed94-197a6a9c7774"
   },
   "outputs": [
    {
     "name": "stdout",
     "output_type": "stream",
     "text": [
      "<function <lambda> at 0x7fbbf8566c10>\n",
      "Hello Python\n"
     ]
    }
   ],
   "source": [
    "# lambda function without parameter\n",
    "print(lambda:'Hello Python')\n",
    "print((lambda:'Hello Python')()) # (lambda:'Hello Python') -- definition of lambda , () -- call of lambda"
   ]
  },
  {
   "cell_type": "code",
   "execution_count": 2,
   "metadata": {
    "colab": {
     "base_uri": "https://localhost:8080/"
    },
    "id": "oDz61xss2V3y",
    "outputId": "82bf1894-188e-4edc-bb08-81826df75d04"
   },
   "outputs": [
    {
     "name": "stdout",
     "output_type": "stream",
     "text": [
      "6\n"
     ]
    }
   ],
   "source": [
    "# lambda function not assigned to any variable\n",
    "print((lambda x,y:x*y)(3,2))"
   ]
  },
  {
   "cell_type": "code",
   "execution_count": 3,
   "metadata": {
    "colab": {
     "base_uri": "https://localhost:8080/"
    },
    "id": "jlkHTdut3pQS",
    "outputId": "5e5b4844-a105-4220-a19b-d74f2420c720"
   },
   "outputs": [
    {
     "name": "stdout",
     "output_type": "stream",
     "text": [
      "6\n"
     ]
    }
   ],
   "source": [
    "# lambda function assigned to variable\n",
    "product=lambda x,y:x*y # definition of lambda\n",
    "print(product(3,2)) # call of lambda\n",
    "\n",
    "# **Bear in mind that PEP-8 (the official Python style guide) does not recommend assigning lambdas to variables**"
   ]
  },
  {
   "cell_type": "code",
   "execution_count": 4,
   "metadata": {
    "colab": {
     "base_uri": "https://localhost:8080/"
    },
    "id": "AqdtqDNH2fNc",
    "outputId": "5fe23809-fb9a-41a7-9b5d-0f026ee2d563"
   },
   "outputs": [
    {
     "name": "stdout",
     "output_type": "stream",
     "text": [
      "False\n",
      "True\n"
     ]
    }
   ],
   "source": [
    "# if-else in lambda\n",
    "print((lambda num:True if num%2==0 else False)(33))\n",
    "print((lambda num:True if num%2==0 else False)(32))"
   ]
  },
  {
   "cell_type": "code",
   "execution_count": 5,
   "metadata": {
    "colab": {
     "base_uri": "https://localhost:8080/"
    },
    "id": "mrYHGyEa2fac",
    "outputId": "88e51a68-b199-467c-d06d-b5842637c43d"
   },
   "outputs": [
    {
     "name": "stdout",
     "output_type": "stream",
     "text": [
      "False\n",
      "True\n"
     ]
    }
   ],
   "source": [
    "# short form\n",
    "print((lambda num:num%2==0)(33))\n",
    "print((lambda num:num%2==0)(32))"
   ]
  },
  {
   "cell_type": "code",
   "execution_count": 6,
   "metadata": {
    "colab": {
     "base_uri": "https://localhost:8080/"
    },
    "id": "Zrz9Lhu54pDi",
    "outputId": "c6c4b9ff-9681-4286-c40b-aae9fee1cb89"
   },
   "outputs": [
    {
     "name": "stdout",
     "output_type": "stream",
     "text": [
      "33\n",
      "False\n"
     ]
    }
   ],
   "source": [
    "print((lambda x,y: x if x>y else y)(10,33))\n",
    "print((lambda x,y: x>y)(10,33))"
   ]
  },
  {
   "cell_type": "code",
   "execution_count": 7,
   "metadata": {
    "colab": {
     "base_uri": "https://localhost:8080/"
    },
    "id": "NR-GdBYT6pXA",
    "outputId": "9d352ca0-75ee-4898-890b-61f188b904a3"
   },
   "outputs": [
    {
     "name": "stdout",
     "output_type": "stream",
     "text": [
      "-ve\n",
      "+ve\n",
      "0\n"
     ]
    }
   ],
   "source": [
    "# if elseif else\n",
    "print((lambda num: '+ve' if num>0 else('0' if num==0 else '-ve'))(-9))\n",
    "print((lambda num: '+ve' if num>0 else('0' if num==0 else '-ve'))(65))\n",
    "print((lambda num: '+ve' if num>0 else('0' if num==0 else '-ve'))(0))"
   ]
  },
  {
   "cell_type": "code",
   "execution_count": 8,
   "metadata": {
    "colab": {
     "base_uri": "https://localhost:8080/"
    },
    "id": "adPjWD0QIr92",
    "outputId": "9be54504-ab58-4b94-d8f9-bfbf2a6d36d0"
   },
   "outputs": [
    {
     "name": "stdout",
     "output_type": "stream",
     "text": [
      "-1 is -ve\n",
      "2 is +ve\n",
      "3 is +ve\n",
      "0 is zero\n",
      "-89 is -ve\n",
      "6 is +ve\n"
     ]
    }
   ],
   "source": [
    "lnum = [-1, 2, 3, 0, -89, 6]\n",
    "for num in lnum:\n",
    "    print((lambda num: f\"{num} is +ve\" if num > 0 else (f\"{num} is zero\" if num == 0 else f\"{num} is -ve\"))(num))"
   ]
  },
  {
   "cell_type": "code",
   "execution_count": 9,
   "metadata": {
    "colab": {
     "base_uri": "https://localhost:8080/"
    },
    "id": "tyHJhUDtVdh8",
    "outputId": "e2ddb5b3-3549-4e2d-eae1-254493670599"
   },
   "outputs": [
    {
     "name": "stdout",
     "output_type": "stream",
     "text": [
      "-1 is -ve\n",
      "2 is +ve\n",
      "3 is +ve\n",
      "0 is Zero\n",
      "-89 is -ve\n",
      "6 is +ve\n"
     ]
    }
   ],
   "source": [
    "lnum = [-1, 2, 3, 0, -89, 6]\n",
    "check=lambda num: f\"{num} is +ve\" if num > 0 else (f\"{num} is Zero\" if num == 0 else f\"{num} is -ve\")\n",
    "for num in lnum:\n",
    "    print(check(num))"
   ]
  },
  {
   "cell_type": "code",
   "execution_count": 10,
   "metadata": {
    "colab": {
     "base_uri": "https://localhost:8080/"
    },
    "id": "d4XqfLve06h_",
    "outputId": "dfd06e0e-32be-4353-fcc3-9df51b9da3f3"
   },
   "outputs": [
    {
     "name": "stdout",
     "output_type": "stream",
     "text": [
      "[100, 1089, 1849, 1764, 9604]\n"
     ]
    }
   ],
   "source": [
    "# for\n",
    "lnum=[10,33,43,42,98]\n",
    "print((lambda lnum: [x**2 for x in lnum])(lnum))"
   ]
  },
  {
   "cell_type": "code",
   "execution_count": 11,
   "metadata": {
    "colab": {
     "base_uri": "https://localhost:8080/"
    },
    "id": "0RKx8R_g7X2q",
    "outputId": "3d352ca8-de64-486c-dad5-b77567b29deb"
   },
   "outputs": [
    {
     "name": "stdout",
     "output_type": "stream",
     "text": [
      "[10, 42, 98]\n",
      "[10, 42, 98]\n"
     ]
    }
   ],
   "source": [
    "# for if\n",
    "lnum=[10,33,43,42,98]\n",
    "print((lambda lnum: [x for x in lnum if x%2==0])(lnum))\n",
    "print((lambda lnum: list(x for x in lnum if x%2==0))(lnum))"
   ]
  },
  {
   "cell_type": "code",
   "execution_count": 12,
   "metadata": {
    "colab": {
     "base_uri": "https://localhost:8080/"
    },
    "id": "DZ9Q99sSXYtC",
    "outputId": "d284e223-347c-4868-af10-e1d9520eef7b"
   },
   "outputs": [
    {
     "name": "stdout",
     "output_type": "stream",
     "text": [
      "(10, 42, 98)\n"
     ]
    }
   ],
   "source": [
    "lnum=[10,33,43,42,98]\n",
    "print((lambda lnum: tuple(x for x in lnum if x%2==0))(lnum))"
   ]
  },
  {
   "cell_type": "code",
   "execution_count": 13,
   "metadata": {
    "colab": {
     "base_uri": "https://localhost:8080/"
    },
    "id": "P5dMaA9IXksS",
    "outputId": "3e6998a1-c9a0-4227-f8a4-117ddf2d04e0"
   },
   "outputs": [
    {
     "name": "stdout",
     "output_type": "stream",
     "text": [
      "{10, 42, 98}\n"
     ]
    }
   ],
   "source": [
    "lnum=[10,33,43,42,98]\n",
    "print((lambda lnum: {x for x in lnum if x%2==0})(lnum))"
   ]
  },
  {
   "cell_type": "code",
   "execution_count": 14,
   "metadata": {
    "colab": {
     "base_uri": "https://localhost:8080/"
    },
    "id": "tfg2y3J59Ra3",
    "outputId": "c56b0f9c-5e28-4ae6-eb02-b6a2ed92a656"
   },
   "outputs": [
    {
     "name": "stdout",
     "output_type": "stream",
     "text": [
      "['-ve', '+ve', '+ve', 'zero', '-ve', '+ve']\n"
     ]
    }
   ],
   "source": [
    "# if else for\n",
    "lnum=[-1,2,3,0,-89,6]\n",
    "print((lambda listnum: ['+ve'if num>0 else('zero' if num==0 else '-ve') for num in listnum])(lnum))"
   ]
  },
  {
   "cell_type": "code",
   "execution_count": 15,
   "metadata": {
    "colab": {
     "base_uri": "https://localhost:8080/"
    },
    "id": "3hp-YdVnWMYZ",
    "outputId": "015bd5f9-777c-49cb-f469-5cfb312691f7"
   },
   "outputs": [
    {
     "name": "stdout",
     "output_type": "stream",
     "text": [
      "['-ve', '+ve', '+ve', 'zero', '-ve', '+ve']\n"
     ]
    }
   ],
   "source": [
    "lnum=[-1,2,3,0,-89,6]\n",
    "print((lambda listnum: list('+ve'if num>0 else('zero' if num==0 else '-ve') for num in listnum))(lnum))"
   ]
  },
  {
   "cell_type": "code",
   "execution_count": 16,
   "metadata": {
    "colab": {
     "base_uri": "https://localhost:8080/"
    },
    "id": "gW15iJR8WY9T",
    "outputId": "88634f32-156e-4e6b-dec0-c3334c3eddf8"
   },
   "outputs": [
    {
     "name": "stdout",
     "output_type": "stream",
     "text": [
      "Hii aman, welcome to our Data Analyst program\n",
      "Hii aman, welcome to our Machine Learning program\n"
     ]
    }
   ],
   "source": [
    "# optional argument in lambda function\n",
    "print((lambda name,course='Data Analyst': f'Hii {name}, welcome to our {course} program')('aman'))\n",
    "print((lambda name,course='Data Analyst': f'Hii {name}, welcome to our {course} program')('aman','Machine Learning'))"
   ]
  },
  {
   "cell_type": "code",
   "execution_count": 17,
   "metadata": {
    "colab": {
     "base_uri": "https://localhost:8080/"
    },
    "id": "SYgTM71Y5b2l",
    "outputId": "a6ef9493-cd9d-47a4-aaab-a9d24c14ac83"
   },
   "outputs": [
    {
     "name": "stdout",
     "output_type": "stream",
     "text": [
      "[14, 16, 18, 20]\n",
      "[-144, 162, 1.0, 20, 126]\n"
     ]
    }
   ],
   "source": [
    "# variable length arguments\n",
    "print((lambda *num: [x*2 for x in num])(7,8,9,10))\n",
    "print((lambda *num: [x*2 for x in num])(-72,81,0.5,10,63))"
   ]
  },
  {
   "cell_type": "code",
   "execution_count": null,
   "metadata": {
    "id": "AdBHkgzY2Sb-"
   },
   "outputs": [],
   "source": [
    "'''\n",
    "all(): Returns True if all elements in the collection are True (or truthy), otherwise returns False.\n",
    "any(): Returns True if at least one element in the collection is True (or truthy), otherwise returns False.\n",
    "'''"
   ]
  },
  {
   "cell_type": "code",
   "execution_count": 18,
   "metadata": {
    "colab": {
     "base_uri": "https://localhost:8080/"
    },
    "id": "YXo3iVYZCO6s",
    "outputId": "c0b368e8-8594-4ca9-95ec-1e8d14c04724"
   },
   "outputs": [
    {
     "name": "stdout",
     "output_type": "stream",
     "text": [
      "True\n",
      "False\n"
     ]
    }
   ],
   "source": [
    "# check prime\n",
    "print((lambda num: num>1 and all(num%i!=0 for i in range(2,num)))(13))\n",
    "print((lambda num: num>1 and all(num%i!=0 for i in range(2,num)))(9))"
   ]
  },
  {
   "cell_type": "code",
   "execution_count": 19,
   "metadata": {
    "colab": {
     "base_uri": "https://localhost:8080/"
    },
    "id": "ohtpo4VuDEA0",
    "outputId": "3914afac-5360-4ac6-80fd-3f083c68c1f6"
   },
   "outputs": [
    {
     "name": "stdout",
     "output_type": "stream",
     "text": [
      "True\n",
      "False\n"
     ]
    }
   ],
   "source": [
    "# any prime number in num\n",
    "print((lambda *nums: any(all(e % i != 0 for i in range(2, e)) and e > 1 for e in nums))(13, 11, 7))\n",
    "print((lambda *nums: any(all(e % i != 0 for i in range(2, e)) and e > 1 for e in nums))(10, 9, 55))"
   ]
  },
  {
   "cell_type": "code",
   "execution_count": 20,
   "metadata": {
    "colab": {
     "base_uri": "https://localhost:8080/"
    },
    "id": "mVgZ8M9y1Qwt",
    "outputId": "389506c1-1109-4852-c955-b62ec79ab63c"
   },
   "outputs": [
    {
     "name": "stdout",
     "output_type": "stream",
     "text": [
      "[True, True, True, False, False]\n"
     ]
    }
   ],
   "source": [
    "# list of is_primes\n",
    "print((lambda *nums: [all(e % i != 0 for i in range(2, e)) and e > 1 for e in nums])(13, 11, 7, 4, 9))"
   ]
  },
  {
   "cell_type": "code",
   "execution_count": 21,
   "metadata": {
    "colab": {
     "base_uri": "https://localhost:8080/"
    },
    "id": "hWDKllyg2Gon",
    "outputId": "e828ca20-deae-474a-f226-ea8ded6e4342"
   },
   "outputs": [
    {
     "name": "stdout",
     "output_type": "stream",
     "text": [
      "[13, 11, 7]\n"
     ]
    }
   ],
   "source": [
    "# list of primes\n",
    "print((lambda *nums: [e for e in nums if all(e % i != 0 for i in range(2, e)) and e > 1])(13, 11, 7, 4, 9))"
   ]
  },
  {
   "cell_type": "code",
   "execution_count": 22,
   "metadata": {
    "colab": {
     "base_uri": "https://localhost:8080/"
    },
    "id": "vjuaevqzoVLd",
    "outputId": "b6362f8d-a954-48ec-fa21-002ec113aa7e"
   },
   "outputs": [
    {
     "name": "stdout",
     "output_type": "stream",
     "text": [
      "34\n"
     ]
    }
   ],
   "source": [
    "# sum of number\n",
    "print((lambda *num: sum(num))(7,8,9,10))"
   ]
  },
  {
   "cell_type": "code",
   "execution_count": 23,
   "metadata": {
    "colab": {
     "base_uri": "https://localhost:8080/"
    },
    "id": "8oTkR8VVBty1",
    "outputId": "7626d345-f1e6-4588-f8bd-0cb62210fe91"
   },
   "outputs": [
    {
     "name": "stdout",
     "output_type": "stream",
     "text": [
      "1\n"
     ]
    }
   ],
   "source": [
    "# vowel count\n",
    "print((lambda string : sum(1 for c in string if c in 'aeiou') )('python'))"
   ]
  },
  {
   "cell_type": "code",
   "execution_count": 24,
   "metadata": {
    "colab": {
     "base_uri": "https://localhost:8080/"
    },
    "id": "432WjfA1onCy",
    "outputId": "f9fc64aa-e5a3-45ba-90fa-00282acb21e5"
   },
   "outputs": [
    {
     "name": "stdout",
     "output_type": "stream",
     "text": [
      "3\n",
      "2\n"
     ]
    }
   ],
   "source": [
    "# prime count\n",
    "print((lambda *num: sum((all(e % i != 0 for i in range(2, e)) and e > 1) for e in num))(13, 11, 7, 4, 9))\n",
    "\n",
    "lum=[13, 11, 7, 4, 9]\n",
    "print((lambda cnums: sum((all(e % i != 0 for i in range(2, e)) and e > 1) for e in cnums))(lnum))"
   ]
  },
  {
   "cell_type": "code",
   "execution_count": 25,
   "metadata": {
    "colab": {
     "base_uri": "https://localhost:8080/"
    },
    "id": "ofRHvrvf3Kx6",
    "outputId": "1e8967fc-ae64-492a-ab63-99e7d22e7cf6"
   },
   "outputs": [
    {
     "name": "stdout",
     "output_type": "stream",
     "text": [
      "31\n"
     ]
    }
   ],
   "source": [
    "# sum of prime numbers among list\n",
    "lnum=[13, 11, 7, 4, 9]\n",
    "print((lambda cnums: sum([e for e in cnums if all(e % i != 0 for i in range(2, e)) and e > 1]))(lnum))"
   ]
  },
  {
   "cell_type": "code",
   "execution_count": 26,
   "metadata": {
    "colab": {
     "base_uri": "https://localhost:8080/"
    },
    "id": "y7z_K9PXqkds",
    "outputId": "4c7cd511-2a41-4f07-a6fc-1b3e93ad5339"
   },
   "outputs": [
    {
     "name": "stdout",
     "output_type": "stream",
     "text": [
      "[1, 4, 9, 16, 25]\n"
     ]
    }
   ],
   "source": [
    "#map(): Applies a given function to each item in an iterable and returns a new iterator containing the results.\n",
    "\n",
    "numbers = [1, 2, 3, 4, 5]\n",
    "squared = map(lambda x: x**2, numbers)\n",
    "print(list(squared))"
   ]
  },
  {
   "cell_type": "code",
   "execution_count": 27,
   "metadata": {
    "colab": {
     "base_uri": "https://localhost:8080/"
    },
    "id": "xqfwvo09qoCI",
    "outputId": "d72c8553-bc25-4472-a4be-1bcb2d33247c"
   },
   "outputs": [
    {
     "name": "stdout",
     "output_type": "stream",
     "text": [
      "[2, 4, 6, 8, 10]\n"
     ]
    }
   ],
   "source": [
    "#filter(): Filters items from an iterable based on a given function and returns a new iterator containing\n",
    "#only the items that satisfy the condition.\n",
    "\n",
    "numbers = [1, 2, 3, 4, 5, 6, 7, 8, 9, 10]\n",
    "even_numbers = filter(lambda x: x % 2 == 0, numbers)\n",
    "print(list(even_numbers))"
   ]
  },
  {
   "cell_type": "code",
   "execution_count": 28,
   "metadata": {
    "colab": {
     "base_uri": "https://localhost:8080/"
    },
    "id": "TbGJ_JxCq0lL",
    "outputId": "2ebb9d86-fc30-427d-f03c-3b5523e31216"
   },
   "outputs": [
    {
     "name": "stdout",
     "output_type": "stream",
     "text": [
      "120\n"
     ]
    }
   ],
   "source": [
    "# reduce() : reducing the sequence of elements down to a single value\n",
    "# from python 3.9, we need to import the reduce() function from the functools module.\n",
    "# syntax : functools.reduce(function, iterable[, initial])\n",
    "\n",
    "from functools import reduce\n",
    "\n",
    "numbers = [1, 2, 3, 4, 5]\n",
    "product = reduce(lambda x, y: x * y, numbers)\n",
    "print(product)\n",
    "\n",
    "# initial (optional): An initial value to start the cumulative computation.\n",
    "# If not provided, the first two elements of the iterable are used as the initial values.\n"
   ]
  },
  {
   "cell_type": "code",
   "execution_count": 29,
   "metadata": {
    "colab": {
     "base_uri": "https://localhost:8080/"
    },
    "id": "4br-Mbnrrcz7",
    "outputId": "6b203ebe-66bc-4e29-9bbe-6f522fb0b95c"
   },
   "outputs": [
    {
     "name": "stdout",
     "output_type": "stream",
     "text": [
      "Name: David, Score: 95\n",
      "Name: Bob, Score: 92\n",
      "Name: Alice, Score: 85\n",
      "Name: Charlie, Score: 78\n"
     ]
    }
   ],
   "source": [
    "# Avd. Sorting problem\n",
    "students = [\n",
    "    {'name': 'Alice', 'score': 85},\n",
    "    {'name': 'Bob', 'score': 92},\n",
    "    {'name': 'Charlie', 'score': 78},\n",
    "    {'name': 'David', 'score': 95}\n",
    "]\n",
    "\n",
    "# Sort the list of dictionaries based on the 'score' key\n",
    "sorted_students = sorted(students, key=lambda student: student['score'], reverse=True)\n",
    "\n",
    "for student in sorted_students:\n",
    "    print(f\"Name: {student['name']}, Score: {student['score']}\")\n"
   ]
  },
  {
   "cell_type": "code",
   "execution_count": 30,
   "metadata": {
    "colab": {
     "base_uri": "https://localhost:8080/"
    },
    "id": "oKhf3wEKvX3b",
    "outputId": "07c7ea05-0223-4e34-d48b-5316b1dd1c3f"
   },
   "outputs": [
    {
     "name": "stdout",
     "output_type": "stream",
     "text": [
      "8\n",
      "6\n",
      "14\n"
     ]
    }
   ],
   "source": [
    "# lambda function as argument\n",
    "def apply_operation(operation, x, y):\n",
    "    return operation(x, y)\n",
    "\n",
    "print(apply_operation(lambda x, y: x + y, 5, 3))\n",
    "print(apply_operation(lambda x, y: x - y, 10, 4))\n",
    "print(apply_operation(lambda x, y: x * y, 7, 2))"
   ]
  },
  {
   "cell_type": "code",
   "execution_count": 31,
   "metadata": {
    "colab": {
     "base_uri": "https://localhost:8080/"
    },
    "id": "-mN8BikFwAmG",
    "outputId": "e7ac797b-e887-4c67-e0ae-221aa0ca0884"
   },
   "outputs": [
    {
     "name": "stdout",
     "output_type": "stream",
     "text": [
      "8\n",
      "6\n",
      "14\n"
     ]
    }
   ],
   "source": [
    "apply_operation=lambda operation, x, y : operation(x,y)\n",
    "\n",
    "\n",
    "print(apply_operation(lambda x, y: x + y, 5, 3))\n",
    "print(apply_operation(lambda x, y: x - y, 10, 4))\n",
    "print(apply_operation(lambda x, y: x * y, 7, 2))"
   ]
  },
  {
   "cell_type": "code",
   "execution_count": 32,
   "metadata": {
    "colab": {
     "base_uri": "https://localhost:8080/"
    },
    "id": "je4SIR8wwdFy",
    "outputId": "d83e74ca-00bb-4bb6-c1cb-dd91110a133c"
   },
   "outputs": [
    {
     "name": "stdout",
     "output_type": "stream",
     "text": [
      "8\n",
      "6\n",
      "14\n"
     ]
    }
   ],
   "source": [
    "print((lambda operation, x, y : operation(x,y))(lambda x, y: x + y, 5, 3))\n",
    "print((lambda operation, x, y : operation(x,y))(lambda x, y: x - y, 10, 4))\n",
    "print((lambda operation, x, y : operation(x,y))(lambda x, y: x * y, 7, 2))"
   ]
  },
  {
   "cell_type": "code",
   "execution_count": 33,
   "metadata": {
    "colab": {
     "base_uri": "https://localhost:8080/"
    },
    "id": "hr6HpzK0w6lz",
    "outputId": "5c73ec98-3cb2-441c-a554-7bff937376c6"
   },
   "outputs": [
    {
     "name": "stdout",
     "output_type": "stream",
     "text": [
      "True\n",
      "True\n"
     ]
    }
   ],
   "source": [
    "# lambda function in return statement\n",
    "def is_prime(num): # is_prime --> function\n",
    "    return (lambda n: n>1 and all(n%i!=0 for i in range(2,n)))(num)\n",
    "print(is_prime(11))\n",
    "\n",
    "check_prime=lambda n: n>1 and all(n%i!=0 for i in range(2,n)) # check_prime is variable\n",
    "print(check_prime(11))"
   ]
  },
  {
   "cell_type": "code",
   "execution_count": 34,
   "metadata": {
    "colab": {
     "base_uri": "https://localhost:8080/"
    },
    "id": "oW0DRTX_AqBv",
    "outputId": "b7c05fed-0b91-4c86-86cc-fddf56d236e7"
   },
   "outputs": [
    {
     "name": "stdout",
     "output_type": "stream",
     "text": [
      "19\n"
     ]
    }
   ],
   "source": [
    "# One can call other functions (with/without arguments) from inside a lambda function.\n",
    "def add(x, y):\n",
    "    return x + y\n",
    "\n",
    "def multiply(x, y):\n",
    "    return x * y\n",
    "\n",
    "lambda_with_function_call = lambda a, b: add(a, b) + multiply(a, b)\n",
    "\n",
    "result = lambda_with_function_call(3, 4)\n",
    "print(result)"
   ]
  },
  {
   "cell_type": "code",
   "execution_count": 35,
   "metadata": {
    "colab": {
     "base_uri": "https://localhost:8080/"
    },
    "id": "wWBxcdPFsyGK",
    "outputId": "5aa3ecf2-3b95-4fca-88d4-5bb6b2162446"
   },
   "outputs": [
    {
     "name": "stdout",
     "output_type": "stream",
     "text": [
      "8\n",
      "9\n"
     ]
    }
   ],
   "source": [
    "# lambda lambbda\n",
    "print((lambda B: (lambda P: B**P))(2)(3))\n",
    "print((lambda B: (lambda P: B**P))(3)(2))"
   ]
  },
  {
   "cell_type": "code",
   "execution_count": null,
   "metadata": {
    "id": "gBNC7ObZtHT2"
   },
   "outputs": [],
   "source": [
    "!! Thank You !!"
   ]
  }
 ],
 "metadata": {
  "colab": {
   "provenance": []
  },
  "kernelspec": {
   "display_name": "Python 3 (ipykernel)",
   "language": "python",
   "name": "python3"
  },
  "language_info": {
   "codemirror_mode": {
    "name": "ipython",
    "version": 3
   },
   "file_extension": ".py",
   "mimetype": "text/x-python",
   "name": "python",
   "nbconvert_exporter": "python",
   "pygments_lexer": "ipython3",
   "version": "3.9.12"
  },
  "varInspector": {
   "cols": {
    "lenName": 16,
    "lenType": 16,
    "lenVar": 40
   },
   "kernels_config": {
    "python": {
     "delete_cmd_postfix": "",
     "delete_cmd_prefix": "del ",
     "library": "var_list.py",
     "varRefreshCmd": "print(var_dic_list())"
    },
    "r": {
     "delete_cmd_postfix": ") ",
     "delete_cmd_prefix": "rm(",
     "library": "var_list.r",
     "varRefreshCmd": "cat(var_dic_list()) "
    }
   },
   "types_to_exclude": [
    "module",
    "function",
    "builtin_function_or_method",
    "instance",
    "_Feature"
   ],
   "window_display": false
  }
 },
 "nbformat": 4,
 "nbformat_minor": 1
}
