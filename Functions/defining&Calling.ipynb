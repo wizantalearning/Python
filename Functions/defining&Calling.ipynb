{
 "cells": [
  {
   "cell_type": "code",
   "execution_count": null,
   "metadata": {
    "id": "jUBqbZUlozHH"
   },
   "outputs": [],
   "source": [
    "'''\n",
    "Functions in Python provide organized, reusable and modular code to perform a set of specific actions.\n",
    "\n",
    "Every function encapsulates a set of operations and when called it returns the information to the calling program.\n",
    "\n",
    "Code reuse is one of the most prominent reason to use functions. Large programs usually follow the DRY principle,\n",
    "that is, 'Don't Repeat Yourself' principle. Once a function is written, it can be called multiple times within the same or\n",
    "by different program wherever its functionality is required.\n",
    "\n",
    "\n",
    "Python has many built-in functions like print(), input(), len(). Besides built-ins you can also create your own\n",
    "functions to do more specific jobs—these are called user-defined functions.\n",
    "\n",
    "'''"
   ]
  },
  {
   "cell_type": "code",
   "execution_count": null,
   "metadata": {
    "id": "Kguidl6cSSpn"
   },
   "outputs": [],
   "source": [
    "'''\n",
    "function definition\n",
    "\n",
    "# syntax\n",
    "\n",
    "def function_name(parameters):  # functionHeader\n",
    "  '''documentation string'''\n",
    "  statement(s)                      #functionBody\n",
    "  return expression\n",
    "\n",
    "def keyword used to define a function in python.\n",
    "\n",
    "function_name is known as the identifier of the function.\n",
    "\n",
    "parameters is an optional list of identifiers that get bound to the values supplied as arguments when the function is\n",
    "called.\n",
    "\n",
    "docstring describe what the function does.\n",
    "\n",
    "statement(s) – also known as the function body – are a nonempty sequence of statements executed each time the\n",
    "function is called. This means a function body cannot be empty, just like any indented block.\n",
    "\n",
    "return statement back an expression to the caller.\n",
    "'''"
   ]
  },
  {
   "cell_type": "code",
   "execution_count": 1,
   "metadata": {
    "id": "lfyogXiOT0Ie"
   },
   "outputs": [],
   "source": [
    "# function definition\n",
    "\n",
    "def greet():\n",
    " print(\"Hello Python\")\n",
    "\n",
    "def greetTwo(subjectName):\n",
    " print(f'Hello {subjectName}')"
   ]
  },
  {
   "cell_type": "code",
   "execution_count": null,
   "metadata": {
    "id": "kTx5fyEcUA94"
   },
   "outputs": [],
   "source": [
    "'''\n",
    "function call\n",
    "\n",
    "-- Before calling a function, you must define it just as you assign variables before using them.\n",
    "\n",
    "function call statement syntax -\n",
    "\n",
    "function_name()\n",
    "\n",
    "function_name(value1, value2, value3,.....)\n",
    "\n",
    "The function call statement invokes the function. When a function is invoked, the program control jumps to the\n",
    "called function to execute the statements that are a part of that function. Once the called function is executed,\n",
    "the program control passes back to the calling function.\n",
    "\n",
    "'''"
   ]
  },
  {
   "cell_type": "code",
   "execution_count": 2,
   "metadata": {
    "colab": {
     "base_uri": "https://localhost:8080/"
    },
    "id": "E5dnG5RBZgju",
    "outputId": "0cedb7d3-7477-4fc7-97d0-0aae0e377471"
   },
   "outputs": [
    {
     "name": "stdout",
     "output_type": "stream",
     "text": [
      "Hello Python\n",
      "Hello java\n"
     ]
    }
   ],
   "source": [
    "# function call\n",
    "\n",
    "greet()\n",
    "greetTwo('java') # subjectName --> 'java'"
   ]
  },
  {
   "cell_type": "code",
   "execution_count": 3,
   "metadata": {
    "id": "GYwxxAsvZs9h"
   },
   "outputs": [],
   "source": [
    "def calculateArea(length, width):\n",
    "    \"\"\"\n",
    "    Calculate the area of a rectangle.\n",
    "\n",
    "    Args:\n",
    "        length (float): The length of the rectangle.\n",
    "        width (float): The width of the rectangle.\n",
    "\n",
    "    Returns:\n",
    "        float: The area of the rectangle.\n",
    "    \"\"\"\n",
    "    area = length * width\n",
    "    print(area, 'sq_unit')\n"
   ]
  },
  {
   "cell_type": "code",
   "execution_count": 4,
   "metadata": {
    "colab": {
     "base_uri": "https://localhost:8080/"
    },
    "id": "Rkt0KxvAbK-s",
    "outputId": "20a1850d-76ba-4471-f918-fdb7340e047d"
   },
   "outputs": [
    {
     "name": "stdout",
     "output_type": "stream",
     "text": [
      "\n",
      "    Calculate the area of a rectangle.\n",
      "\n",
      "    Args:\n",
      "        length (float): The length of the rectangle.\n",
      "        width (float): The width of the rectangle.\n",
      "\n",
      "    Returns:\n",
      "        float: The area of the rectangle.\n",
      "    \n"
     ]
    }
   ],
   "source": [
    "print(calculateArea.__doc__) # function_name.__doc__"
   ]
  },
  {
   "cell_type": "code",
   "execution_count": 5,
   "metadata": {
    "colab": {
     "base_uri": "https://localhost:8080/"
    },
    "id": "PJTStVk0bPR8",
    "outputId": "259cda65-b3c3-4ba0-a238-e10902388460"
   },
   "outputs": [
    {
     "name": "stdout",
     "output_type": "stream",
     "text": [
      "1200 sq_unit\n"
     ]
    }
   ],
   "source": [
    "calculateArea(30,40)"
   ]
  },
  {
   "cell_type": "code",
   "execution_count": null,
   "metadata": {},
   "outputs": [],
   "source": [
    "!! Thank You !!"
   ]
  }
 ],
 "metadata": {
  "colab": {
   "provenance": []
  },
  "kernelspec": {
   "display_name": "Python 3 (ipykernel)",
   "language": "python",
   "name": "python3"
  },
  "language_info": {
   "codemirror_mode": {
    "name": "ipython",
    "version": 3
   },
   "file_extension": ".py",
   "mimetype": "text/x-python",
   "name": "python",
   "nbconvert_exporter": "python",
   "pygments_lexer": "ipython3",
   "version": "3.9.12"
  },
  "varInspector": {
   "cols": {
    "lenName": 16,
    "lenType": 16,
    "lenVar": 40
   },
   "kernels_config": {
    "python": {
     "delete_cmd_postfix": "",
     "delete_cmd_prefix": "del ",
     "library": "var_list.py",
     "varRefreshCmd": "print(var_dic_list())"
    },
    "r": {
     "delete_cmd_postfix": ") ",
     "delete_cmd_prefix": "rm(",
     "library": "var_list.r",
     "varRefreshCmd": "cat(var_dic_list()) "
    }
   },
   "types_to_exclude": [
    "module",
    "function",
    "builtin_function_or_method",
    "instance",
    "_Feature"
   ],
   "window_display": false
  }
 },
 "nbformat": 4,
 "nbformat_minor": 1
}
